{
 "cells": [
  {
   "cell_type": "code",
   "execution_count": 1,
   "id": "e21cda2c",
   "metadata": {
    "_cell_guid": "b1076dfc-b9ad-4769-8c92-a6c4dae69d19",
    "_uuid": "8f2839f25d086af736a60e9eeb907d3b93b6e0e5",
    "execution": {
     "iopub.execute_input": "2024-10-08T12:08:36.893937Z",
     "iopub.status.busy": "2024-10-08T12:08:36.893647Z",
     "iopub.status.idle": "2024-10-08T12:08:37.644859Z",
     "shell.execute_reply": "2024-10-08T12:08:37.643768Z"
    },
    "papermill": {
     "duration": 0.766056,
     "end_time": "2024-10-08T12:08:37.647001",
     "exception": false,
     "start_time": "2024-10-08T12:08:36.880945",
     "status": "completed"
    },
    "tags": []
   },
   "outputs": [
    {
     "name": "stdout",
     "output_type": "stream",
     "text": [
      "/kaggle/input/covid-genome/ncbi_datasets.csv\n"
     ]
    }
   ],
   "source": [
    "# This Python 3 environment comes with many helpful analytics libraries installed\n",
    "# It is defined by the kaggle/python Docker image: https://github.com/kaggle/docker-python\n",
    "# For example, here's several helpful packages to load\n",
    "\n",
    "import numpy as np # linear algebra\n",
    "import pandas as pd # data processing, CSV file I/O (e.g. pd.read_csv)\n",
    "\n",
    "# Input data files are available in the read-only \"../input/\" directory\n",
    "# For example, running this (by clicking run or pressing Shift+Enter) will list all files under the input directory\n",
    "\n",
    "import os\n",
    "for dirname, _, filenames in os.walk('/kaggle/input'):\n",
    "    for filename in filenames:\n",
    "        print(os.path.join(dirname, filename))\n",
    "\n",
    "# You can write up to 20GB to the current directory (/kaggle/working/) that gets preserved as output when you create a version using \"Save & Run All\" \n",
    "# You can also write temporary files to /kaggle/temp/, but they won't be saved outside of the current session"
   ]
  },
  {
   "cell_type": "code",
   "execution_count": 2,
   "id": "d795b956",
   "metadata": {
    "execution": {
     "iopub.execute_input": "2024-10-08T12:08:37.672093Z",
     "iopub.status.busy": "2024-10-08T12:08:37.671708Z",
     "iopub.status.idle": "2024-10-08T12:08:42.657669Z",
     "shell.execute_reply": "2024-10-08T12:08:42.656679Z"
    },
    "papermill": {
     "duration": 5.000372,
     "end_time": "2024-10-08T12:08:42.660020",
     "exception": false,
     "start_time": "2024-10-08T12:08:37.659648",
     "status": "completed"
    },
    "tags": []
   },
   "outputs": [
    {
     "name": "stderr",
     "output_type": "stream",
     "text": [
      "/tmp/ipykernel_23/1292894578.py:3: DtypeWarning: Columns (5) have mixed types. Specify dtype option on import or set low_memory=False.\n",
      "  metadata = pd.read_csv('/kaggle/input/covid-genome/ncbi_datasets.csv')\n"
     ]
    }
   ],
   "source": [
    "import pandas as pd\n",
    "\n",
    "metadata = pd.read_csv('/kaggle/input/covid-genome/ncbi_datasets.csv')"
   ]
  },
  {
   "cell_type": "code",
   "execution_count": 3,
   "id": "78476fed",
   "metadata": {
    "execution": {
     "iopub.execute_input": "2024-10-08T12:08:42.686048Z",
     "iopub.status.busy": "2024-10-08T12:08:42.685553Z",
     "iopub.status.idle": "2024-10-08T12:08:42.713365Z",
     "shell.execute_reply": "2024-10-08T12:08:42.712542Z"
    },
    "papermill": {
     "duration": 0.04398,
     "end_time": "2024-10-08T12:08:42.715389",
     "exception": false,
     "start_time": "2024-10-08T12:08:42.671409",
     "status": "completed"
    },
    "tags": []
   },
   "outputs": [
    {
     "data": {
      "text/html": [
       "<div>\n",
       "<style scoped>\n",
       "    .dataframe tbody tr th:only-of-type {\n",
       "        vertical-align: middle;\n",
       "    }\n",
       "\n",
       "    .dataframe tbody tr th {\n",
       "        vertical-align: top;\n",
       "    }\n",
       "\n",
       "    .dataframe thead th {\n",
       "        text-align: right;\n",
       "    }\n",
       "</style>\n",
       "<table border=\"1\" class=\"dataframe\">\n",
       "  <thead>\n",
       "    <tr style=\"text-align: right;\">\n",
       "      <th></th>\n",
       "      <th>Nucleotide Accession</th>\n",
       "      <th>Species Taxonomy Id</th>\n",
       "      <th>Species Name</th>\n",
       "      <th>Virus Genus</th>\n",
       "      <th>Virus Family</th>\n",
       "      <th>Isolate Name</th>\n",
       "      <th>Nucleotide Length</th>\n",
       "      <th>Sequence Type</th>\n",
       "      <th>Nuc Completeness</th>\n",
       "      <th>Geo Location</th>\n",
       "      <th>US State</th>\n",
       "      <th>Host Name</th>\n",
       "      <th>Host Taxonomy ID</th>\n",
       "      <th>Collection Date</th>\n",
       "      <th>BioProject</th>\n",
       "      <th>BioSample</th>\n",
       "    </tr>\n",
       "  </thead>\n",
       "  <tbody>\n",
       "    <tr>\n",
       "      <th>0</th>\n",
       "      <td>NC_045512.2</td>\n",
       "      <td>2697049</td>\n",
       "      <td>Severe acute respiratory syndrome coronavirus 2</td>\n",
       "      <td>Betacoronavirus</td>\n",
       "      <td>Coronaviridae</td>\n",
       "      <td>Wuhan-Hu-1</td>\n",
       "      <td>29903</td>\n",
       "      <td>RefSeq</td>\n",
       "      <td>complete</td>\n",
       "      <td>Asia; China</td>\n",
       "      <td>NaN</td>\n",
       "      <td>NaN</td>\n",
       "      <td>9606</td>\n",
       "      <td>2019-12</td>\n",
       "      <td>PRJNA485481</td>\n",
       "      <td>NaN</td>\n",
       "    </tr>\n",
       "    <tr>\n",
       "      <th>1</th>\n",
       "      <td>OM487257.1</td>\n",
       "      <td>2697049</td>\n",
       "      <td>Severe acute respiratory syndrome coronavirus 2</td>\n",
       "      <td>Betacoronavirus</td>\n",
       "      <td>Coronaviridae</td>\n",
       "      <td>SARS-CoV-2/human/USA/UT-UPHL-220129247957/2021</td>\n",
       "      <td>29815</td>\n",
       "      <td>GenBank</td>\n",
       "      <td>complete</td>\n",
       "      <td>North America; USA</td>\n",
       "      <td>NaN</td>\n",
       "      <td>NaN</td>\n",
       "      <td>9606</td>\n",
       "      <td>2021-12-23</td>\n",
       "      <td>PRJNA614995</td>\n",
       "      <td>SAMN25559487</td>\n",
       "    </tr>\n",
       "    <tr>\n",
       "      <th>2</th>\n",
       "      <td>OM403304.1</td>\n",
       "      <td>2697049</td>\n",
       "      <td>Severe acute respiratory syndrome coronavirus 2</td>\n",
       "      <td>Betacoronavirus</td>\n",
       "      <td>Coronaviridae</td>\n",
       "      <td>SARS-CoV-2/human/HKG/VM20001061-2/2020</td>\n",
       "      <td>29870</td>\n",
       "      <td>GenBank</td>\n",
       "      <td>complete</td>\n",
       "      <td>Asia; Hong Kong</td>\n",
       "      <td>NaN</td>\n",
       "      <td>NaN</td>\n",
       "      <td>9606</td>\n",
       "      <td>2020-01-23</td>\n",
       "      <td>NaN</td>\n",
       "      <td>NaN</td>\n",
       "    </tr>\n",
       "    <tr>\n",
       "      <th>3</th>\n",
       "      <td>OM403303.1</td>\n",
       "      <td>2697049</td>\n",
       "      <td>Severe acute respiratory syndrome coronavirus 2</td>\n",
       "      <td>Betacoronavirus</td>\n",
       "      <td>Coronaviridae</td>\n",
       "      <td>SARS-CoV-2/human/HKG/Original/2020</td>\n",
       "      <td>29851</td>\n",
       "      <td>GenBank</td>\n",
       "      <td>complete</td>\n",
       "      <td>Asia; Hong Kong</td>\n",
       "      <td>NaN</td>\n",
       "      <td>NaN</td>\n",
       "      <td>9606</td>\n",
       "      <td>2020-01-23</td>\n",
       "      <td>NaN</td>\n",
       "      <td>NaN</td>\n",
       "    </tr>\n",
       "    <tr>\n",
       "      <th>4</th>\n",
       "      <td>OM401120.1</td>\n",
       "      <td>2697049</td>\n",
       "      <td>Severe acute respiratory syndrome coronavirus 2</td>\n",
       "      <td>Betacoronavirus</td>\n",
       "      <td>Coronaviridae</td>\n",
       "      <td>SARS-CoV-2/human/USA/UT-UPHL-211112790633/2021</td>\n",
       "      <td>29712</td>\n",
       "      <td>GenBank</td>\n",
       "      <td>complete</td>\n",
       "      <td>North America; USA</td>\n",
       "      <td>NaN</td>\n",
       "      <td>NaN</td>\n",
       "      <td>9606</td>\n",
       "      <td>2021-09-25</td>\n",
       "      <td>PRJNA614995</td>\n",
       "      <td>SAMN23427251</td>\n",
       "    </tr>\n",
       "  </tbody>\n",
       "</table>\n",
       "</div>"
      ],
      "text/plain": [
       "  Nucleotide Accession  Species Taxonomy Id  \\\n",
       "0          NC_045512.2              2697049   \n",
       "1           OM487257.1              2697049   \n",
       "2           OM403304.1              2697049   \n",
       "3           OM403303.1              2697049   \n",
       "4           OM401120.1              2697049   \n",
       "\n",
       "                                      Species Name      Virus Genus  \\\n",
       "0  Severe acute respiratory syndrome coronavirus 2  Betacoronavirus   \n",
       "1  Severe acute respiratory syndrome coronavirus 2  Betacoronavirus   \n",
       "2  Severe acute respiratory syndrome coronavirus 2  Betacoronavirus   \n",
       "3  Severe acute respiratory syndrome coronavirus 2  Betacoronavirus   \n",
       "4  Severe acute respiratory syndrome coronavirus 2  Betacoronavirus   \n",
       "\n",
       "    Virus Family                                    Isolate Name  \\\n",
       "0  Coronaviridae                                      Wuhan-Hu-1   \n",
       "1  Coronaviridae  SARS-CoV-2/human/USA/UT-UPHL-220129247957/2021   \n",
       "2  Coronaviridae          SARS-CoV-2/human/HKG/VM20001061-2/2020   \n",
       "3  Coronaviridae              SARS-CoV-2/human/HKG/Original/2020   \n",
       "4  Coronaviridae  SARS-CoV-2/human/USA/UT-UPHL-211112790633/2021   \n",
       "\n",
       "   Nucleotide Length Sequence Type Nuc Completeness        Geo Location  \\\n",
       "0              29903        RefSeq         complete         Asia; China   \n",
       "1              29815       GenBank         complete  North America; USA   \n",
       "2              29870       GenBank         complete     Asia; Hong Kong   \n",
       "3              29851       GenBank         complete     Asia; Hong Kong   \n",
       "4              29712       GenBank         complete  North America; USA   \n",
       "\n",
       "   US State  Host Name  Host Taxonomy ID Collection Date   BioProject  \\\n",
       "0       NaN        NaN              9606         2019-12  PRJNA485481   \n",
       "1       NaN        NaN              9606      2021-12-23  PRJNA614995   \n",
       "2       NaN        NaN              9606      2020-01-23          NaN   \n",
       "3       NaN        NaN              9606      2020-01-23          NaN   \n",
       "4       NaN        NaN              9606      2021-09-25  PRJNA614995   \n",
       "\n",
       "      BioSample  \n",
       "0           NaN  \n",
       "1  SAMN25559487  \n",
       "2           NaN  \n",
       "3           NaN  \n",
       "4  SAMN23427251  "
      ]
     },
     "execution_count": 3,
     "metadata": {},
     "output_type": "execute_result"
    }
   ],
   "source": [
    "metadata.head()"
   ]
  },
  {
   "cell_type": "code",
   "execution_count": 4,
   "id": "16e57c3f",
   "metadata": {
    "execution": {
     "iopub.execute_input": "2024-10-08T12:08:42.740321Z",
     "iopub.status.busy": "2024-10-08T12:08:42.739671Z",
     "iopub.status.idle": "2024-10-08T12:08:42.746362Z",
     "shell.execute_reply": "2024-10-08T12:08:42.745549Z"
    },
    "papermill": {
     "duration": 0.020945,
     "end_time": "2024-10-08T12:08:42.748277",
     "exception": false,
     "start_time": "2024-10-08T12:08:42.727332",
     "status": "completed"
    },
    "tags": []
   },
   "outputs": [
    {
     "data": {
      "text/plain": [
       "(847791, 16)"
      ]
     },
     "execution_count": 4,
     "metadata": {},
     "output_type": "execute_result"
    }
   ],
   "source": [
    "metadata.shape"
   ]
  },
  {
   "cell_type": "code",
   "execution_count": 5,
   "id": "cd138be9",
   "metadata": {
    "execution": {
     "iopub.execute_input": "2024-10-08T12:08:42.772571Z",
     "iopub.status.busy": "2024-10-08T12:08:42.771944Z",
     "iopub.status.idle": "2024-10-08T12:08:42.777639Z",
     "shell.execute_reply": "2024-10-08T12:08:42.776825Z"
    },
    "papermill": {
     "duration": 0.019701,
     "end_time": "2024-10-08T12:08:42.779442",
     "exception": false,
     "start_time": "2024-10-08T12:08:42.759741",
     "status": "completed"
    },
    "tags": []
   },
   "outputs": [
    {
     "data": {
      "text/plain": [
       "Index(['Nucleotide Accession', 'Species Taxonomy Id', 'Species Name',\n",
       "       'Virus Genus', 'Virus Family', 'Isolate Name', 'Nucleotide Length',\n",
       "       'Sequence Type', 'Nuc Completeness', 'Geo Location', 'US State',\n",
       "       'Host Name', 'Host Taxonomy ID', 'Collection Date', 'BioProject',\n",
       "       'BioSample'],\n",
       "      dtype='object')"
      ]
     },
     "execution_count": 5,
     "metadata": {},
     "output_type": "execute_result"
    }
   ],
   "source": [
    "metadata.columns"
   ]
  },
  {
   "cell_type": "code",
   "execution_count": 6,
   "id": "4ea99e2c",
   "metadata": {
    "execution": {
     "iopub.execute_input": "2024-10-08T12:08:42.803834Z",
     "iopub.status.busy": "2024-10-08T12:08:42.803577Z",
     "iopub.status.idle": "2024-10-08T12:08:42.808901Z",
     "shell.execute_reply": "2024-10-08T12:08:42.808099Z"
    },
    "papermill": {
     "duration": 0.019528,
     "end_time": "2024-10-08T12:08:42.810836",
     "exception": false,
     "start_time": "2024-10-08T12:08:42.791308",
     "status": "completed"
    },
    "tags": []
   },
   "outputs": [
    {
     "data": {
      "text/plain": [
       "RangeIndex(start=0, stop=847791, step=1)"
      ]
     },
     "execution_count": 6,
     "metadata": {},
     "output_type": "execute_result"
    }
   ],
   "source": [
    "metadata.index"
   ]
  },
  {
   "cell_type": "code",
   "execution_count": 7,
   "id": "d9081675",
   "metadata": {
    "execution": {
     "iopub.execute_input": "2024-10-08T12:08:42.835593Z",
     "iopub.status.busy": "2024-10-08T12:08:42.834969Z",
     "iopub.status.idle": "2024-10-08T12:08:42.841842Z",
     "shell.execute_reply": "2024-10-08T12:08:42.841026Z"
    },
    "papermill": {
     "duration": 0.021254,
     "end_time": "2024-10-08T12:08:42.843824",
     "exception": false,
     "start_time": "2024-10-08T12:08:42.822570",
     "status": "completed"
    },
    "tags": []
   },
   "outputs": [
    {
     "data": {
      "text/plain": [
       "Nucleotide Accession     object\n",
       "Species Taxonomy Id       int64\n",
       "Species Name             object\n",
       "Virus Genus              object\n",
       "Virus Family             object\n",
       "Isolate Name             object\n",
       "Nucleotide Length         int64\n",
       "Sequence Type            object\n",
       "Nuc Completeness         object\n",
       "Geo Location             object\n",
       "US State                float64\n",
       "Host Name               float64\n",
       "Host Taxonomy ID          int64\n",
       "Collection Date          object\n",
       "BioProject               object\n",
       "BioSample                object\n",
       "dtype: object"
      ]
     },
     "execution_count": 7,
     "metadata": {},
     "output_type": "execute_result"
    }
   ],
   "source": [
    "metadata.dtypes"
   ]
  },
  {
   "cell_type": "code",
   "execution_count": 8,
   "id": "874b01ef",
   "metadata": {
    "execution": {
     "iopub.execute_input": "2024-10-08T12:08:42.869199Z",
     "iopub.status.busy": "2024-10-08T12:08:42.868759Z",
     "iopub.status.idle": "2024-10-08T12:08:42.873929Z",
     "shell.execute_reply": "2024-10-08T12:08:42.873151Z"
    },
    "papermill": {
     "duration": 0.019759,
     "end_time": "2024-10-08T12:08:42.875925",
     "exception": false,
     "start_time": "2024-10-08T12:08:42.856166",
     "status": "completed"
    },
    "tags": []
   },
   "outputs": [
    {
     "data": {
      "text/plain": [
       "dtype('O')"
      ]
     },
     "execution_count": 8,
     "metadata": {},
     "output_type": "execute_result"
    }
   ],
   "source": [
    "metadata[\"Collection Date\"].dtypes"
   ]
  },
  {
   "cell_type": "code",
   "execution_count": 9,
   "id": "be874227",
   "metadata": {
    "execution": {
     "iopub.execute_input": "2024-10-08T12:08:42.900933Z",
     "iopub.status.busy": "2024-10-08T12:08:42.900405Z",
     "iopub.status.idle": "2024-10-08T12:08:43.071357Z",
     "shell.execute_reply": "2024-10-08T12:08:43.070446Z"
    },
    "papermill": {
     "duration": 0.185831,
     "end_time": "2024-10-08T12:08:43.073664",
     "exception": false,
     "start_time": "2024-10-08T12:08:42.887833",
     "status": "completed"
    },
    "tags": []
   },
   "outputs": [
    {
     "name": "stderr",
     "output_type": "stream",
     "text": [
      "/tmp/ipykernel_23/89245147.py:1: UserWarning: The argument 'infer_datetime_format' is deprecated and will be removed in a future version. A strict version of it is now the default, see https://pandas.pydata.org/pdeps/0004-consistent-to-datetime-parsing.html. You can safely remove this argument.\n",
      "  metadata[\"Collection Date\"] = pd.to_datetime(metadata[\"Collection Date\"], errors=\"coerce\", infer_datetime_format=True)\n"
     ]
    }
   ],
   "source": [
    "metadata[\"Collection Date\"] = pd.to_datetime(metadata[\"Collection Date\"], errors=\"coerce\", infer_datetime_format=True)"
   ]
  },
  {
   "cell_type": "code",
   "execution_count": 10,
   "id": "7fffe4d3",
   "metadata": {
    "execution": {
     "iopub.execute_input": "2024-10-08T12:08:43.099524Z",
     "iopub.status.busy": "2024-10-08T12:08:43.099003Z",
     "iopub.status.idle": "2024-10-08T12:08:43.103550Z",
     "shell.execute_reply": "2024-10-08T12:08:43.102718Z"
    },
    "papermill": {
     "duration": 0.019482,
     "end_time": "2024-10-08T12:08:43.105514",
     "exception": false,
     "start_time": "2024-10-08T12:08:43.086032",
     "status": "completed"
    },
    "tags": []
   },
   "outputs": [],
   "source": [
    "metadata.columns = [c.lower().replace(\" \",\"_\") for c in metadata.columns]"
   ]
  },
  {
   "cell_type": "code",
   "execution_count": 11,
   "id": "8310a749",
   "metadata": {
    "execution": {
     "iopub.execute_input": "2024-10-08T12:08:43.131480Z",
     "iopub.status.busy": "2024-10-08T12:08:43.130734Z",
     "iopub.status.idle": "2024-10-08T12:08:43.137053Z",
     "shell.execute_reply": "2024-10-08T12:08:43.136117Z"
    },
    "papermill": {
     "duration": 0.021201,
     "end_time": "2024-10-08T12:08:43.138944",
     "exception": false,
     "start_time": "2024-10-08T12:08:43.117743",
     "status": "completed"
    },
    "tags": []
   },
   "outputs": [
    {
     "data": {
      "text/plain": [
       "Index(['nucleotide_accession', 'species_taxonomy_id', 'species_name',\n",
       "       'virus_genus', 'virus_family', 'isolate_name', 'nucleotide_length',\n",
       "       'sequence_type', 'nuc_completeness', 'geo_location', 'us_state',\n",
       "       'host_name', 'host_taxonomy_id', 'collection_date', 'bioproject',\n",
       "       'biosample'],\n",
       "      dtype='object')"
      ]
     },
     "execution_count": 11,
     "metadata": {},
     "output_type": "execute_result"
    }
   ],
   "source": [
    "metadata.columns"
   ]
  },
  {
   "cell_type": "code",
   "execution_count": 12,
   "id": "535fbb28",
   "metadata": {
    "execution": {
     "iopub.execute_input": "2024-10-08T12:08:43.166235Z",
     "iopub.status.busy": "2024-10-08T12:08:43.165537Z",
     "iopub.status.idle": "2024-10-08T12:08:43.945984Z",
     "shell.execute_reply": "2024-10-08T12:08:43.945197Z"
    },
    "papermill": {
     "duration": 0.795761,
     "end_time": "2024-10-08T12:08:43.948175",
     "exception": false,
     "start_time": "2024-10-08T12:08:43.152414",
     "status": "completed"
    },
    "tags": []
   },
   "outputs": [],
   "source": [
    "metadata[\"continent\"] = metadata[\"geo_location\"].str.replace(\";.+\",\"\",regex=True)"
   ]
  },
  {
   "cell_type": "code",
   "execution_count": 13,
   "id": "bf4d3f9a",
   "metadata": {
    "execution": {
     "iopub.execute_input": "2024-10-08T12:08:43.974567Z",
     "iopub.status.busy": "2024-10-08T12:08:43.974254Z",
     "iopub.status.idle": "2024-10-08T12:08:44.573837Z",
     "shell.execute_reply": "2024-10-08T12:08:44.572784Z"
    },
    "papermill": {
     "duration": 0.615709,
     "end_time": "2024-10-08T12:08:44.576814",
     "exception": false,
     "start_time": "2024-10-08T12:08:43.961105",
     "status": "completed"
    },
    "tags": []
   },
   "outputs": [
    {
     "name": "stderr",
     "output_type": "stream",
     "text": [
      "/tmp/ipykernel_23/4072638154.py:1: DeprecationWarning: DataFrameGroupBy.apply operated on the grouping columns. This behavior is deprecated, and in a future version of pandas the grouping columns will be excluded from the operation. Either pass `include_groups=False` to exclude the groupings or explicitly select the grouping columns after groupby to silence this warning.\n",
      "  metadata.groupby(\"continent\").apply(lambda x: x.sort_values(\"collection_date\").iloc[0])\n"
     ]
    },
    {
     "data": {
      "text/html": [
       "<div>\n",
       "<style scoped>\n",
       "    .dataframe tbody tr th:only-of-type {\n",
       "        vertical-align: middle;\n",
       "    }\n",
       "\n",
       "    .dataframe tbody tr th {\n",
       "        vertical-align: top;\n",
       "    }\n",
       "\n",
       "    .dataframe thead th {\n",
       "        text-align: right;\n",
       "    }\n",
       "</style>\n",
       "<table border=\"1\" class=\"dataframe\">\n",
       "  <thead>\n",
       "    <tr style=\"text-align: right;\">\n",
       "      <th></th>\n",
       "      <th>nucleotide_accession</th>\n",
       "      <th>species_taxonomy_id</th>\n",
       "      <th>species_name</th>\n",
       "      <th>virus_genus</th>\n",
       "      <th>virus_family</th>\n",
       "      <th>isolate_name</th>\n",
       "      <th>nucleotide_length</th>\n",
       "      <th>sequence_type</th>\n",
       "      <th>nuc_completeness</th>\n",
       "      <th>geo_location</th>\n",
       "      <th>us_state</th>\n",
       "      <th>host_name</th>\n",
       "      <th>host_taxonomy_id</th>\n",
       "      <th>collection_date</th>\n",
       "      <th>bioproject</th>\n",
       "      <th>biosample</th>\n",
       "      <th>continent</th>\n",
       "    </tr>\n",
       "    <tr>\n",
       "      <th>continent</th>\n",
       "      <th></th>\n",
       "      <th></th>\n",
       "      <th></th>\n",
       "      <th></th>\n",
       "      <th></th>\n",
       "      <th></th>\n",
       "      <th></th>\n",
       "      <th></th>\n",
       "      <th></th>\n",
       "      <th></th>\n",
       "      <th></th>\n",
       "      <th></th>\n",
       "      <th></th>\n",
       "      <th></th>\n",
       "      <th></th>\n",
       "      <th></th>\n",
       "      <th></th>\n",
       "    </tr>\n",
       "  </thead>\n",
       "  <tbody>\n",
       "    <tr>\n",
       "      <th>Africa</th>\n",
       "      <td>OL913312.1</td>\n",
       "      <td>2697049</td>\n",
       "      <td>Severe acute respiratory syndrome coronavirus 2</td>\n",
       "      <td>Betacoronavirus</td>\n",
       "      <td>Coronaviridae</td>\n",
       "      <td>SARS-CoV-2/human/KEN/NIC_084/2020</td>\n",
       "      <td>29782</td>\n",
       "      <td>GenBank</td>\n",
       "      <td>complete</td>\n",
       "      <td>Africa; Kenya</td>\n",
       "      <td>NaN</td>\n",
       "      <td>NaN</td>\n",
       "      <td>9606</td>\n",
       "      <td>2020-03-01</td>\n",
       "      <td>NaN</td>\n",
       "      <td>NaN</td>\n",
       "      <td>Africa</td>\n",
       "    </tr>\n",
       "    <tr>\n",
       "      <th>Asia</th>\n",
       "      <td>NC_045512.2</td>\n",
       "      <td>2697049</td>\n",
       "      <td>Severe acute respiratory syndrome coronavirus 2</td>\n",
       "      <td>Betacoronavirus</td>\n",
       "      <td>Coronaviridae</td>\n",
       "      <td>Wuhan-Hu-1</td>\n",
       "      <td>29903</td>\n",
       "      <td>RefSeq</td>\n",
       "      <td>complete</td>\n",
       "      <td>Asia; China</td>\n",
       "      <td>NaN</td>\n",
       "      <td>NaN</td>\n",
       "      <td>9606</td>\n",
       "      <td>2019-12-01</td>\n",
       "      <td>PRJNA485481</td>\n",
       "      <td>NaN</td>\n",
       "      <td>Asia</td>\n",
       "    </tr>\n",
       "    <tr>\n",
       "      <th>Europe</th>\n",
       "      <td>MT270105.1</td>\n",
       "      <td>2697049</td>\n",
       "      <td>Severe acute respiratory syndrome coronavirus 2</td>\n",
       "      <td>Betacoronavirus</td>\n",
       "      <td>Coronaviridae</td>\n",
       "      <td>SARS-CoV-2/human/DEU/BavPat5-ChVir1248/2020</td>\n",
       "      <td>29860</td>\n",
       "      <td>GenBank</td>\n",
       "      <td>complete</td>\n",
       "      <td>Europe; Germany: Bavaria</td>\n",
       "      <td>NaN</td>\n",
       "      <td>NaN</td>\n",
       "      <td>9606</td>\n",
       "      <td>2020-01-01</td>\n",
       "      <td>NaN</td>\n",
       "      <td>NaN</td>\n",
       "      <td>Europe</td>\n",
       "    </tr>\n",
       "    <tr>\n",
       "      <th>North America</th>\n",
       "      <td>MT951951.1</td>\n",
       "      <td>2697049</td>\n",
       "      <td>Severe acute respiratory syndrome coronavirus 2</td>\n",
       "      <td>Betacoronavirus</td>\n",
       "      <td>Coronaviridae</td>\n",
       "      <td>SARS-CoV-2/human/USA/VA-DCLS-0583/2020</td>\n",
       "      <td>29882</td>\n",
       "      <td>GenBank</td>\n",
       "      <td>complete</td>\n",
       "      <td>North America; USA: Virginia</td>\n",
       "      <td>NaN</td>\n",
       "      <td>NaN</td>\n",
       "      <td>9606</td>\n",
       "      <td>2020-03-01</td>\n",
       "      <td>NaN</td>\n",
       "      <td>NaN</td>\n",
       "      <td>North America</td>\n",
       "    </tr>\n",
       "    <tr>\n",
       "      <th>Oceania</th>\n",
       "      <td>MZ331924.1</td>\n",
       "      <td>2697049</td>\n",
       "      <td>Severe acute respiratory syndrome coronavirus 2</td>\n",
       "      <td>Betacoronavirus</td>\n",
       "      <td>Coronaviridae</td>\n",
       "      <td>SARS-CoV-2/human/NZL/20VR1275/2020</td>\n",
       "      <td>29782</td>\n",
       "      <td>GenBank</td>\n",
       "      <td>complete</td>\n",
       "      <td>Oceania; New Zealand</td>\n",
       "      <td>NaN</td>\n",
       "      <td>NaN</td>\n",
       "      <td>9606</td>\n",
       "      <td>NaT</td>\n",
       "      <td>PRJNA648792</td>\n",
       "      <td>SAMN15769785</td>\n",
       "      <td>Oceania</td>\n",
       "    </tr>\n",
       "    <tr>\n",
       "      <th>South America</th>\n",
       "      <td>MT670015.1</td>\n",
       "      <td>2697049</td>\n",
       "      <td>Severe acute respiratory syndrome coronavirus 2</td>\n",
       "      <td>Betacoronavirus</td>\n",
       "      <td>Coronaviridae</td>\n",
       "      <td>SARS-CoV-2/human/CHL/2020-25343/2020</td>\n",
       "      <td>29782</td>\n",
       "      <td>GenBank</td>\n",
       "      <td>complete</td>\n",
       "      <td>South America; Chile</td>\n",
       "      <td>NaN</td>\n",
       "      <td>NaN</td>\n",
       "      <td>9606</td>\n",
       "      <td>NaT</td>\n",
       "      <td>NaN</td>\n",
       "      <td>NaN</td>\n",
       "      <td>South America</td>\n",
       "    </tr>\n",
       "  </tbody>\n",
       "</table>\n",
       "</div>"
      ],
      "text/plain": [
       "              nucleotide_accession  species_taxonomy_id  \\\n",
       "continent                                                 \n",
       "Africa                  OL913312.1              2697049   \n",
       "Asia                   NC_045512.2              2697049   \n",
       "Europe                  MT270105.1              2697049   \n",
       "North America           MT951951.1              2697049   \n",
       "Oceania                 MZ331924.1              2697049   \n",
       "South America           MT670015.1              2697049   \n",
       "\n",
       "                                                  species_name  \\\n",
       "continent                                                        \n",
       "Africa         Severe acute respiratory syndrome coronavirus 2   \n",
       "Asia           Severe acute respiratory syndrome coronavirus 2   \n",
       "Europe         Severe acute respiratory syndrome coronavirus 2   \n",
       "North America  Severe acute respiratory syndrome coronavirus 2   \n",
       "Oceania        Severe acute respiratory syndrome coronavirus 2   \n",
       "South America  Severe acute respiratory syndrome coronavirus 2   \n",
       "\n",
       "                   virus_genus   virus_family  \\\n",
       "continent                                       \n",
       "Africa         Betacoronavirus  Coronaviridae   \n",
       "Asia           Betacoronavirus  Coronaviridae   \n",
       "Europe         Betacoronavirus  Coronaviridae   \n",
       "North America  Betacoronavirus  Coronaviridae   \n",
       "Oceania        Betacoronavirus  Coronaviridae   \n",
       "South America  Betacoronavirus  Coronaviridae   \n",
       "\n",
       "                                              isolate_name  nucleotide_length  \\\n",
       "continent                                                                       \n",
       "Africa                   SARS-CoV-2/human/KEN/NIC_084/2020              29782   \n",
       "Asia                                            Wuhan-Hu-1              29903   \n",
       "Europe         SARS-CoV-2/human/DEU/BavPat5-ChVir1248/2020              29860   \n",
       "North America       SARS-CoV-2/human/USA/VA-DCLS-0583/2020              29882   \n",
       "Oceania                 SARS-CoV-2/human/NZL/20VR1275/2020              29782   \n",
       "South America         SARS-CoV-2/human/CHL/2020-25343/2020              29782   \n",
       "\n",
       "              sequence_type nuc_completeness                  geo_location  \\\n",
       "continent                                                                    \n",
       "Africa              GenBank         complete                 Africa; Kenya   \n",
       "Asia                 RefSeq         complete                   Asia; China   \n",
       "Europe              GenBank         complete      Europe; Germany: Bavaria   \n",
       "North America       GenBank         complete  North America; USA: Virginia   \n",
       "Oceania             GenBank         complete          Oceania; New Zealand   \n",
       "South America       GenBank         complete          South America; Chile   \n",
       "\n",
       "               us_state  host_name  host_taxonomy_id collection_date  \\\n",
       "continent                                                              \n",
       "Africa              NaN        NaN              9606      2020-03-01   \n",
       "Asia                NaN        NaN              9606      2019-12-01   \n",
       "Europe              NaN        NaN              9606      2020-01-01   \n",
       "North America       NaN        NaN              9606      2020-03-01   \n",
       "Oceania             NaN        NaN              9606             NaT   \n",
       "South America       NaN        NaN              9606             NaT   \n",
       "\n",
       "                bioproject     biosample      continent  \n",
       "continent                                                \n",
       "Africa                 NaN           NaN         Africa  \n",
       "Asia           PRJNA485481           NaN           Asia  \n",
       "Europe                 NaN           NaN         Europe  \n",
       "North America          NaN           NaN  North America  \n",
       "Oceania        PRJNA648792  SAMN15769785        Oceania  \n",
       "South America          NaN           NaN  South America  "
      ]
     },
     "execution_count": 13,
     "metadata": {},
     "output_type": "execute_result"
    }
   ],
   "source": [
    "metadata.groupby(\"continent\").apply(lambda x: x.sort_values(\"collection_date\").iloc[0])"
   ]
  },
  {
   "cell_type": "code",
   "execution_count": 14,
   "id": "f5e63a80",
   "metadata": {
    "execution": {
     "iopub.execute_input": "2024-10-08T12:08:44.603642Z",
     "iopub.status.busy": "2024-10-08T12:08:44.603349Z",
     "iopub.status.idle": "2024-10-08T12:08:44.743492Z",
     "shell.execute_reply": "2024-10-08T12:08:44.742666Z"
    },
    "papermill": {
     "duration": 0.155739,
     "end_time": "2024-10-08T12:08:44.745563",
     "exception": false,
     "start_time": "2024-10-08T12:08:44.589824",
     "status": "completed"
    },
    "tags": []
   },
   "outputs": [
    {
     "data": {
      "text/plain": [
       "continent\n",
       "North America    571069\n",
       "Europe           254520\n",
       "Oceania           10603\n",
       "Asia               8581\n",
       "Africa             2192\n",
       "South America       755\n",
       "Name: count, dtype: int64"
      ]
     },
     "execution_count": 14,
     "metadata": {},
     "output_type": "execute_result"
    }
   ],
   "source": [
    "metadata[\"continent\"].value_counts()"
   ]
  },
  {
   "cell_type": "code",
   "execution_count": 15,
   "id": "e3fc0a2a",
   "metadata": {
    "execution": {
     "iopub.execute_input": "2024-10-08T12:08:44.772608Z",
     "iopub.status.busy": "2024-10-08T12:08:44.772161Z",
     "iopub.status.idle": "2024-10-08T12:08:44.795892Z",
     "shell.execute_reply": "2024-10-08T12:08:44.795062Z"
    },
    "papermill": {
     "duration": 0.039571,
     "end_time": "2024-10-08T12:08:44.797967",
     "exception": false,
     "start_time": "2024-10-08T12:08:44.758396",
     "status": "completed"
    },
    "tags": []
   },
   "outputs": [
    {
     "data": {
      "text/plain": [
       "count    847791.000000\n",
       "mean      29825.747932\n",
       "std          69.937482\n",
       "min        2859.000000\n",
       "25%       29786.000000\n",
       "50%       29819.000000\n",
       "75%       29884.000000\n",
       "max       30018.000000\n",
       "Name: nucleotide_length, dtype: float64"
      ]
     },
     "execution_count": 15,
     "metadata": {},
     "output_type": "execute_result"
    }
   ],
   "source": [
    "metadata[\"nucleotide_length\"].describe()"
   ]
  },
  {
   "cell_type": "code",
   "execution_count": 16,
   "id": "76acfa55",
   "metadata": {
    "execution": {
     "iopub.execute_input": "2024-10-08T12:08:44.825335Z",
     "iopub.status.busy": "2024-10-08T12:08:44.825026Z",
     "iopub.status.idle": "2024-10-08T12:08:44.842293Z",
     "shell.execute_reply": "2024-10-08T12:08:44.841437Z"
    },
    "papermill": {
     "duration": 0.032969,
     "end_time": "2024-10-08T12:08:44.844190",
     "exception": false,
     "start_time": "2024-10-08T12:08:44.811221",
     "status": "completed"
    },
    "tags": []
   },
   "outputs": [
    {
     "data": {
      "text/html": [
       "<div>\n",
       "<style scoped>\n",
       "    .dataframe tbody tr th:only-of-type {\n",
       "        vertical-align: middle;\n",
       "    }\n",
       "\n",
       "    .dataframe tbody tr th {\n",
       "        vertical-align: top;\n",
       "    }\n",
       "\n",
       "    .dataframe thead th {\n",
       "        text-align: right;\n",
       "    }\n",
       "</style>\n",
       "<table border=\"1\" class=\"dataframe\">\n",
       "  <thead>\n",
       "    <tr style=\"text-align: right;\">\n",
       "      <th></th>\n",
       "      <th>nucleotide_accession</th>\n",
       "      <th>species_taxonomy_id</th>\n",
       "      <th>species_name</th>\n",
       "      <th>virus_genus</th>\n",
       "      <th>virus_family</th>\n",
       "      <th>isolate_name</th>\n",
       "      <th>nucleotide_length</th>\n",
       "      <th>sequence_type</th>\n",
       "      <th>nuc_completeness</th>\n",
       "      <th>geo_location</th>\n",
       "      <th>us_state</th>\n",
       "      <th>host_name</th>\n",
       "      <th>host_taxonomy_id</th>\n",
       "      <th>collection_date</th>\n",
       "      <th>bioproject</th>\n",
       "      <th>biosample</th>\n",
       "      <th>continent</th>\n",
       "    </tr>\n",
       "  </thead>\n",
       "  <tbody>\n",
       "    <tr>\n",
       "      <th>847723</th>\n",
       "      <td>LR877184.1</td>\n",
       "      <td>2697049</td>\n",
       "      <td>Severe acute respiratory syndrome coronavirus 2</td>\n",
       "      <td>Betacoronavirus</td>\n",
       "      <td>Coronaviridae</td>\n",
       "      <td>NaN</td>\n",
       "      <td>2859</td>\n",
       "      <td>GenBank</td>\n",
       "      <td>complete</td>\n",
       "      <td>Europe; Sweden:Stockholm, Sweden</td>\n",
       "      <td>NaN</td>\n",
       "      <td>NaN</td>\n",
       "      <td>9606</td>\n",
       "      <td>NaT</td>\n",
       "      <td>PRJEB39632</td>\n",
       "      <td>SAMEA7098098</td>\n",
       "      <td>Europe</td>\n",
       "    </tr>\n",
       "  </tbody>\n",
       "</table>\n",
       "</div>"
      ],
      "text/plain": [
       "       nucleotide_accession  species_taxonomy_id  \\\n",
       "847723           LR877184.1              2697049   \n",
       "\n",
       "                                           species_name      virus_genus  \\\n",
       "847723  Severe acute respiratory syndrome coronavirus 2  Betacoronavirus   \n",
       "\n",
       "         virus_family isolate_name  nucleotide_length sequence_type  \\\n",
       "847723  Coronaviridae          NaN               2859       GenBank   \n",
       "\n",
       "       nuc_completeness                      geo_location  us_state  \\\n",
       "847723         complete  Europe; Sweden:Stockholm, Sweden       NaN   \n",
       "\n",
       "        host_name  host_taxonomy_id collection_date  bioproject     biosample  \\\n",
       "847723        NaN              9606             NaT  PRJEB39632  SAMEA7098098   \n",
       "\n",
       "       continent  \n",
       "847723    Europe  "
      ]
     },
     "execution_count": 16,
     "metadata": {},
     "output_type": "execute_result"
    }
   ],
   "source": [
    "metadata[metadata[\"nucleotide_length\"] == metadata[\"nucleotide_length\"].min()]"
   ]
  },
  {
   "cell_type": "code",
   "execution_count": 17,
   "id": "4a2c4e01",
   "metadata": {
    "execution": {
     "iopub.execute_input": "2024-10-08T12:08:44.872124Z",
     "iopub.status.busy": "2024-10-08T12:08:44.871800Z",
     "iopub.status.idle": "2024-10-08T12:08:44.887719Z",
     "shell.execute_reply": "2024-10-08T12:08:44.887033Z"
    },
    "papermill": {
     "duration": 0.031992,
     "end_time": "2024-10-08T12:08:44.889621",
     "exception": false,
     "start_time": "2024-10-08T12:08:44.857629",
     "status": "completed"
    },
    "tags": []
   },
   "outputs": [],
   "source": [
    "sample_month = pd.Series(metadata[\"collection_date\"].values.astype(\"<M8[M]\"))"
   ]
  },
  {
   "cell_type": "code",
   "execution_count": 18,
   "id": "491c834a",
   "metadata": {
    "execution": {
     "iopub.execute_input": "2024-10-08T12:08:44.917139Z",
     "iopub.status.busy": "2024-10-08T12:08:44.916478Z",
     "iopub.status.idle": "2024-10-08T12:08:45.287905Z",
     "shell.execute_reply": "2024-10-08T12:08:45.286918Z"
    },
    "papermill": {
     "duration": 0.38741,
     "end_time": "2024-10-08T12:08:45.290067",
     "exception": false,
     "start_time": "2024-10-08T12:08:44.902657",
     "status": "completed"
    },
    "tags": []
   },
   "outputs": [
    {
     "data": {
      "text/plain": [
       "<Axes: >"
      ]
     },
     "execution_count": 18,
     "metadata": {},
     "output_type": "execute_result"
    },
    {
     "data": {
      "image/png": "[encoded data removed]",
      "text/plain": [
       "<Figure size 640x480 with 1 Axes>"
      ]
     },
     "metadata": {},
     "output_type": "display_data"
    }
   ],
   "source": [
    "sample_month.value_counts().sort_index().plot()"
   ]
  },
  {
   "cell_type": "code",
   "execution_count": 19,
   "id": "f6476c7f",
   "metadata": {
    "execution": {
     "iopub.execute_input": "2024-10-08T12:08:45.320313Z",
     "iopub.status.busy": "2024-10-08T12:08:45.319463Z",
     "iopub.status.idle": "2024-10-08T12:08:45.463374Z",
     "shell.execute_reply": "2024-10-08T12:08:45.462520Z"
    },
    "papermill": {
     "duration": 0.161105,
     "end_time": "2024-10-08T12:08:45.465511",
     "exception": false,
     "start_time": "2024-10-08T12:08:45.304406",
     "status": "completed"
    },
    "tags": []
   },
   "outputs": [
    {
     "data": {
      "text/html": [
       "<div>\n",
       "<style scoped>\n",
       "    .dataframe tbody tr th:only-of-type {\n",
       "        vertical-align: middle;\n",
       "    }\n",
       "\n",
       "    .dataframe tbody tr th {\n",
       "        vertical-align: top;\n",
       "    }\n",
       "\n",
       "    .dataframe thead th {\n",
       "        text-align: right;\n",
       "    }\n",
       "</style>\n",
       "<table border=\"1\" class=\"dataframe\">\n",
       "  <thead>\n",
       "    <tr style=\"text-align: right;\">\n",
       "      <th></th>\n",
       "      <th>nucleotide_accession</th>\n",
       "      <th>species_taxonomy_id</th>\n",
       "      <th>species_name</th>\n",
       "      <th>virus_genus</th>\n",
       "      <th>virus_family</th>\n",
       "      <th>isolate_name</th>\n",
       "      <th>nucleotide_length</th>\n",
       "      <th>sequence_type</th>\n",
       "      <th>nuc_completeness</th>\n",
       "      <th>geo_location</th>\n",
       "      <th>us_state</th>\n",
       "      <th>host_name</th>\n",
       "      <th>host_taxonomy_id</th>\n",
       "      <th>collection_date</th>\n",
       "      <th>bioproject</th>\n",
       "      <th>biosample</th>\n",
       "      <th>continent</th>\n",
       "    </tr>\n",
       "  </thead>\n",
       "  <tbody>\n",
       "    <tr>\n",
       "      <th>0</th>\n",
       "      <td>NC_045512.2</td>\n",
       "      <td>2697049</td>\n",
       "      <td>Severe acute respiratory syndrome coronavirus 2</td>\n",
       "      <td>Betacoronavirus</td>\n",
       "      <td>Coronaviridae</td>\n",
       "      <td>Wuhan-Hu-1</td>\n",
       "      <td>29903</td>\n",
       "      <td>RefSeq</td>\n",
       "      <td>complete</td>\n",
       "      <td>Asia; China</td>\n",
       "      <td>NaN</td>\n",
       "      <td>NaN</td>\n",
       "      <td>9606</td>\n",
       "      <td>2019-12-01</td>\n",
       "      <td>PRJNA485481</td>\n",
       "      <td>NaN</td>\n",
       "      <td>Asia</td>\n",
       "    </tr>\n",
       "  </tbody>\n",
       "</table>\n",
       "</div>"
      ],
      "text/plain": [
       "  nucleotide_accession  species_taxonomy_id  \\\n",
       "0          NC_045512.2              2697049   \n",
       "\n",
       "                                      species_name      virus_genus  \\\n",
       "0  Severe acute respiratory syndrome coronavirus 2  Betacoronavirus   \n",
       "\n",
       "    virus_family isolate_name  nucleotide_length sequence_type  \\\n",
       "0  Coronaviridae   Wuhan-Hu-1              29903        RefSeq   \n",
       "\n",
       "  nuc_completeness geo_location  us_state  host_name  host_taxonomy_id  \\\n",
       "0         complete  Asia; China       NaN        NaN              9606   \n",
       "\n",
       "  collection_date   bioproject biosample continent  \n",
       "0      2019-12-01  PRJNA485481       NaN      Asia  "
      ]
     },
     "execution_count": 19,
     "metadata": {},
     "output_type": "execute_result"
    }
   ],
   "source": [
    "metadata[metadata[\"sequence_type\"] == \"RefSeq\"]"
   ]
  },
  {
   "cell_type": "code",
   "execution_count": 20,
   "id": "f5cedcce",
   "metadata": {
    "execution": {
     "iopub.execute_input": "2024-10-08T12:08:45.495452Z",
     "iopub.status.busy": "2024-10-08T12:08:45.494942Z",
     "iopub.status.idle": "2024-10-08T12:08:45.979306Z",
     "shell.execute_reply": "2024-10-08T12:08:45.978239Z"
    },
    "papermill": {
     "duration": 0.502552,
     "end_time": "2024-10-08T12:08:45.982600",
     "exception": false,
     "start_time": "2024-10-08T12:08:45.480048",
     "status": "completed"
    },
    "tags": []
   },
   "outputs": [
    {
     "name": "stderr",
     "output_type": "stream",
     "text": [
      "/tmp/ipykernel_23/3963990289.py:1: FutureWarning: Downcasting object dtype arrays on .fillna, .ffill, .bfill is deprecated and will change in a future version. Call result.infer_objects(copy=False) instead. To opt-in to the future behavior, set `pd.set_option('future.no_silent_downcasting', True)`\n",
      "  metadata[metadata[\"isolate_name\"].str.contains(\"Delta\").fillna(False)]\n"
     ]
    },
    {
     "data": {
      "text/html": [
       "<div>\n",
       "<style scoped>\n",
       "    .dataframe tbody tr th:only-of-type {\n",
       "        vertical-align: middle;\n",
       "    }\n",
       "\n",
       "    .dataframe tbody tr th {\n",
       "        vertical-align: top;\n",
       "    }\n",
       "\n",
       "    .dataframe thead th {\n",
       "        text-align: right;\n",
       "    }\n",
       "</style>\n",
       "<table border=\"1\" class=\"dataframe\">\n",
       "  <thead>\n",
       "    <tr style=\"text-align: right;\">\n",
       "      <th></th>\n",
       "      <th>nucleotide_accession</th>\n",
       "      <th>species_taxonomy_id</th>\n",
       "      <th>species_name</th>\n",
       "      <th>virus_genus</th>\n",
       "      <th>virus_family</th>\n",
       "      <th>isolate_name</th>\n",
       "      <th>nucleotide_length</th>\n",
       "      <th>sequence_type</th>\n",
       "      <th>nuc_completeness</th>\n",
       "      <th>geo_location</th>\n",
       "      <th>us_state</th>\n",
       "      <th>host_name</th>\n",
       "      <th>host_taxonomy_id</th>\n",
       "      <th>collection_date</th>\n",
       "      <th>bioproject</th>\n",
       "      <th>biosample</th>\n",
       "      <th>continent</th>\n",
       "    </tr>\n",
       "  </thead>\n",
       "  <tbody>\n",
       "    <tr>\n",
       "      <th>85804</th>\n",
       "      <td>OM108163.1</td>\n",
       "      <td>2697049</td>\n",
       "      <td>Severe acute respiratory syndrome coronavirus 2</td>\n",
       "      <td>Betacoronavirus</td>\n",
       "      <td>Coronaviridae</td>\n",
       "      <td>SARS-CoV-2/human/CHN/Delta-3/2021</td>\n",
       "      <td>29860</td>\n",
       "      <td>GenBank</td>\n",
       "      <td>complete</td>\n",
       "      <td>Asia; China: Beijing</td>\n",
       "      <td>NaN</td>\n",
       "      <td>NaN</td>\n",
       "      <td>9606</td>\n",
       "      <td>NaT</td>\n",
       "      <td>NaN</td>\n",
       "      <td>NaN</td>\n",
       "      <td>Asia</td>\n",
       "    </tr>\n",
       "    <tr>\n",
       "      <th>85948</th>\n",
       "      <td>OM061695.1</td>\n",
       "      <td>2697049</td>\n",
       "      <td>Severe acute respiratory syndrome coronavirus 2</td>\n",
       "      <td>Betacoronavirus</td>\n",
       "      <td>Coronaviridae</td>\n",
       "      <td>SARS-CoV-2/human/CHN/Delta-1/2021</td>\n",
       "      <td>29858</td>\n",
       "      <td>GenBank</td>\n",
       "      <td>complete</td>\n",
       "      <td>Asia; China: Beijing</td>\n",
       "      <td>NaN</td>\n",
       "      <td>NaN</td>\n",
       "      <td>9606</td>\n",
       "      <td>NaT</td>\n",
       "      <td>NaN</td>\n",
       "      <td>NaN</td>\n",
       "      <td>Asia</td>\n",
       "    </tr>\n",
       "    <tr>\n",
       "      <th>251375</th>\n",
       "      <td>OK091006.1</td>\n",
       "      <td>2697049</td>\n",
       "      <td>Severe acute respiratory syndrome coronavirus 2</td>\n",
       "      <td>Betacoronavirus</td>\n",
       "      <td>Coronaviridae</td>\n",
       "      <td>SARS-CoV-2/human/JPN/SARS-CoV-2, B.1.617.2 lin...</td>\n",
       "      <td>29836</td>\n",
       "      <td>GenBank</td>\n",
       "      <td>complete</td>\n",
       "      <td>Asia; Japan</td>\n",
       "      <td>NaN</td>\n",
       "      <td>NaN</td>\n",
       "      <td>9606</td>\n",
       "      <td>NaT</td>\n",
       "      <td>NaN</td>\n",
       "      <td>NaN</td>\n",
       "      <td>Asia</td>\n",
       "    </tr>\n",
       "    <tr>\n",
       "      <th>665095</th>\n",
       "      <td>OM108132.1</td>\n",
       "      <td>2697049</td>\n",
       "      <td>Severe acute respiratory syndrome coronavirus 2</td>\n",
       "      <td>Betacoronavirus</td>\n",
       "      <td>Coronaviridae</td>\n",
       "      <td>SARS-CoV-2/human/CHN/Delta-2/2021</td>\n",
       "      <td>29858</td>\n",
       "      <td>GenBank</td>\n",
       "      <td>complete</td>\n",
       "      <td>Asia; China: Beijing</td>\n",
       "      <td>NaN</td>\n",
       "      <td>NaN</td>\n",
       "      <td>9606</td>\n",
       "      <td>NaT</td>\n",
       "      <td>NaN</td>\n",
       "      <td>NaN</td>\n",
       "      <td>Asia</td>\n",
       "    </tr>\n",
       "  </tbody>\n",
       "</table>\n",
       "</div>"
      ],
      "text/plain": [
       "       nucleotide_accession  species_taxonomy_id  \\\n",
       "85804            OM108163.1              2697049   \n",
       "85948            OM061695.1              2697049   \n",
       "251375           OK091006.1              2697049   \n",
       "665095           OM108132.1              2697049   \n",
       "\n",
       "                                           species_name      virus_genus  \\\n",
       "85804   Severe acute respiratory syndrome coronavirus 2  Betacoronavirus   \n",
       "85948   Severe acute respiratory syndrome coronavirus 2  Betacoronavirus   \n",
       "251375  Severe acute respiratory syndrome coronavirus 2  Betacoronavirus   \n",
       "665095  Severe acute respiratory syndrome coronavirus 2  Betacoronavirus   \n",
       "\n",
       "         virus_family                                       isolate_name  \\\n",
       "85804   Coronaviridae                  SARS-CoV-2/human/CHN/Delta-3/2021   \n",
       "85948   Coronaviridae                  SARS-CoV-2/human/CHN/Delta-1/2021   \n",
       "251375  Coronaviridae  SARS-CoV-2/human/JPN/SARS-CoV-2, B.1.617.2 lin...   \n",
       "665095  Coronaviridae                  SARS-CoV-2/human/CHN/Delta-2/2021   \n",
       "\n",
       "        nucleotide_length sequence_type nuc_completeness  \\\n",
       "85804               29860       GenBank         complete   \n",
       "85948               29858       GenBank         complete   \n",
       "251375              29836       GenBank         complete   \n",
       "665095              29858       GenBank         complete   \n",
       "\n",
       "                geo_location  us_state  host_name  host_taxonomy_id  \\\n",
       "85804   Asia; China: Beijing       NaN        NaN              9606   \n",
       "85948   Asia; China: Beijing       NaN        NaN              9606   \n",
       "251375           Asia; Japan       NaN        NaN              9606   \n",
       "665095  Asia; China: Beijing       NaN        NaN              9606   \n",
       "\n",
       "       collection_date bioproject biosample continent  \n",
       "85804              NaT        NaN       NaN      Asia  \n",
       "85948              NaT        NaN       NaN      Asia  \n",
       "251375             NaT        NaN       NaN      Asia  \n",
       "665095             NaT        NaN       NaN      Asia  "
      ]
     },
     "execution_count": 20,
     "metadata": {},
     "output_type": "execute_result"
    }
   ],
   "source": [
    "metadata[metadata[\"isolate_name\"].str.contains(\"Delta\").fillna(False)]"
   ]
  },
  {
   "cell_type": "code",
   "execution_count": 21,
   "id": "1a098d22",
   "metadata": {
    "execution": {
     "iopub.execute_input": "2024-10-08T12:08:46.014145Z",
     "iopub.status.busy": "2024-10-08T12:08:46.013594Z",
     "iopub.status.idle": "2024-10-08T12:08:46.466162Z",
     "shell.execute_reply": "2024-10-08T12:08:46.465054Z"
    },
    "papermill": {
     "duration": 0.470256,
     "end_time": "2024-10-08T12:08:46.468501",
     "exception": false,
     "start_time": "2024-10-08T12:08:45.998245",
     "status": "completed"
    },
    "tags": []
   },
   "outputs": [
    {
     "name": "stderr",
     "output_type": "stream",
     "text": [
      "/tmp/ipykernel_23/1462966699.py:1: FutureWarning: Downcasting object dtype arrays on .fillna, .ffill, .bfill is deprecated and will change in a future version. Call result.infer_objects(copy=False) instead. To opt-in to the future behavior, set `pd.set_option('future.no_silent_downcasting', True)`\n",
      "  metadata[metadata[\"isolate_name\"].str.contains(\"Omicron\").fillna(False)]\n"
     ]
    },
    {
     "data": {
      "text/html": [
       "<div>\n",
       "<style scoped>\n",
       "    .dataframe tbody tr th:only-of-type {\n",
       "        vertical-align: middle;\n",
       "    }\n",
       "\n",
       "    .dataframe tbody tr th {\n",
       "        vertical-align: top;\n",
       "    }\n",
       "\n",
       "    .dataframe thead th {\n",
       "        text-align: right;\n",
       "    }\n",
       "</style>\n",
       "<table border=\"1\" class=\"dataframe\">\n",
       "  <thead>\n",
       "    <tr style=\"text-align: right;\">\n",
       "      <th></th>\n",
       "      <th>nucleotide_accession</th>\n",
       "      <th>species_taxonomy_id</th>\n",
       "      <th>species_name</th>\n",
       "      <th>virus_genus</th>\n",
       "      <th>virus_family</th>\n",
       "      <th>isolate_name</th>\n",
       "      <th>nucleotide_length</th>\n",
       "      <th>sequence_type</th>\n",
       "      <th>nuc_completeness</th>\n",
       "      <th>geo_location</th>\n",
       "      <th>us_state</th>\n",
       "      <th>host_name</th>\n",
       "      <th>host_taxonomy_id</th>\n",
       "      <th>collection_date</th>\n",
       "      <th>bioproject</th>\n",
       "      <th>biosample</th>\n",
       "      <th>continent</th>\n",
       "    </tr>\n",
       "  </thead>\n",
       "  <tbody>\n",
       "    <tr>\n",
       "      <th>806923</th>\n",
       "      <td>OM095411.1</td>\n",
       "      <td>2697049</td>\n",
       "      <td>Severe acute respiratory syndrome coronavirus 2</td>\n",
       "      <td>Betacoronavirus</td>\n",
       "      <td>Coronaviridae</td>\n",
       "      <td>SARS-CoV-2/human/CHN/Omicron-1/2021</td>\n",
       "      <td>29788</td>\n",
       "      <td>GenBank</td>\n",
       "      <td>complete</td>\n",
       "      <td>Asia; China: Beijing</td>\n",
       "      <td>NaN</td>\n",
       "      <td>NaN</td>\n",
       "      <td>9606</td>\n",
       "      <td>NaT</td>\n",
       "      <td>NaN</td>\n",
       "      <td>NaN</td>\n",
       "      <td>Asia</td>\n",
       "    </tr>\n",
       "  </tbody>\n",
       "</table>\n",
       "</div>"
      ],
      "text/plain": [
       "       nucleotide_accession  species_taxonomy_id  \\\n",
       "806923           OM095411.1              2697049   \n",
       "\n",
       "                                           species_name      virus_genus  \\\n",
       "806923  Severe acute respiratory syndrome coronavirus 2  Betacoronavirus   \n",
       "\n",
       "         virus_family                         isolate_name  nucleotide_length  \\\n",
       "806923  Coronaviridae  SARS-CoV-2/human/CHN/Omicron-1/2021              29788   \n",
       "\n",
       "       sequence_type nuc_completeness          geo_location  us_state  \\\n",
       "806923       GenBank         complete  Asia; China: Beijing       NaN   \n",
       "\n",
       "        host_name  host_taxonomy_id collection_date bioproject biosample  \\\n",
       "806923        NaN              9606             NaT        NaN       NaN   \n",
       "\n",
       "       continent  \n",
       "806923      Asia  "
      ]
     },
     "execution_count": 21,
     "metadata": {},
     "output_type": "execute_result"
    }
   ],
   "source": [
    "metadata[metadata[\"isolate_name\"].str.contains(\"Omicron\").fillna(False)]"
   ]
  },
  {
   "cell_type": "code",
   "execution_count": 22,
   "id": "2b48e0e1",
   "metadata": {
    "execution": {
     "iopub.execute_input": "2024-10-08T12:08:46.500514Z",
     "iopub.status.busy": "2024-10-08T12:08:46.499757Z",
     "iopub.status.idle": "2024-10-08T12:08:46.504252Z",
     "shell.execute_reply": "2024-10-08T12:08:46.503409Z"
    },
    "papermill": {
     "duration": 0.022081,
     "end_time": "2024-10-08T12:08:46.506202",
     "exception": false,
     "start_time": "2024-10-08T12:08:46.484121",
     "status": "completed"
    },
    "tags": []
   },
   "outputs": [],
   "source": [
    "import os\n",
    "\n",
    "sequences = [\"NC_045512.2\", \"OL467832.1\", \"OM061695.1\", \"OM095411.1\"]\n",
    "human_names = [\"reference\", \"base\", \"delta\", \"omicron\"]"
   ]
  },
  {
   "cell_type": "code",
   "execution_count": 23,
   "id": "3afd2883",
   "metadata": {
    "execution": {
     "iopub.execute_input": "2024-10-08T12:08:46.536799Z",
     "iopub.status.busy": "2024-10-08T12:08:46.536154Z",
     "iopub.status.idle": "2024-10-08T12:08:46.610274Z",
     "shell.execute_reply": "2024-10-08T12:08:46.609430Z"
    },
    "papermill": {
     "duration": 0.091518,
     "end_time": "2024-10-08T12:08:46.612295",
     "exception": false,
     "start_time": "2024-10-08T12:08:46.520777",
     "status": "completed"
    },
    "tags": []
   },
   "outputs": [],
   "source": [
    "selected_sequences = metadata[metadata[\"nucleotide_accession\"].isin(sequences)]"
   ]
  },
  {
   "cell_type": "code",
   "execution_count": 24,
   "id": "58cb53b9",
   "metadata": {
    "execution": {
     "iopub.execute_input": "2024-10-08T12:08:46.642766Z",
     "iopub.status.busy": "2024-10-08T12:08:46.642280Z",
     "iopub.status.idle": "2024-10-08T12:08:46.658134Z",
     "shell.execute_reply": "2024-10-08T12:08:46.657256Z"
    },
    "papermill": {
     "duration": 0.033273,
     "end_time": "2024-10-08T12:08:46.660322",
     "exception": false,
     "start_time": "2024-10-08T12:08:46.627049",
     "status": "completed"
    },
    "tags": []
   },
   "outputs": [
    {
     "data": {
      "text/html": [
       "<div>\n",
       "<style scoped>\n",
       "    .dataframe tbody tr th:only-of-type {\n",
       "        vertical-align: middle;\n",
       "    }\n",
       "\n",
       "    .dataframe tbody tr th {\n",
       "        vertical-align: top;\n",
       "    }\n",
       "\n",
       "    .dataframe thead th {\n",
       "        text-align: right;\n",
       "    }\n",
       "</style>\n",
       "<table border=\"1\" class=\"dataframe\">\n",
       "  <thead>\n",
       "    <tr style=\"text-align: right;\">\n",
       "      <th></th>\n",
       "      <th>nucleotide_accession</th>\n",
       "      <th>species_taxonomy_id</th>\n",
       "      <th>species_name</th>\n",
       "      <th>virus_genus</th>\n",
       "      <th>virus_family</th>\n",
       "      <th>isolate_name</th>\n",
       "      <th>nucleotide_length</th>\n",
       "      <th>sequence_type</th>\n",
       "      <th>nuc_completeness</th>\n",
       "      <th>geo_location</th>\n",
       "      <th>us_state</th>\n",
       "      <th>host_name</th>\n",
       "      <th>host_taxonomy_id</th>\n",
       "      <th>collection_date</th>\n",
       "      <th>bioproject</th>\n",
       "      <th>biosample</th>\n",
       "      <th>continent</th>\n",
       "    </tr>\n",
       "  </thead>\n",
       "  <tbody>\n",
       "    <tr>\n",
       "      <th>0</th>\n",
       "      <td>NC_045512.2</td>\n",
       "      <td>2697049</td>\n",
       "      <td>Severe acute respiratory syndrome coronavirus 2</td>\n",
       "      <td>Betacoronavirus</td>\n",
       "      <td>Coronaviridae</td>\n",
       "      <td>Wuhan-Hu-1</td>\n",
       "      <td>29903</td>\n",
       "      <td>RefSeq</td>\n",
       "      <td>complete</td>\n",
       "      <td>Asia; China</td>\n",
       "      <td>NaN</td>\n",
       "      <td>NaN</td>\n",
       "      <td>9606</td>\n",
       "      <td>2019-12-01</td>\n",
       "      <td>PRJNA485481</td>\n",
       "      <td>NaN</td>\n",
       "      <td>Asia</td>\n",
       "    </tr>\n",
       "    <tr>\n",
       "      <th>85948</th>\n",
       "      <td>OM061695.1</td>\n",
       "      <td>2697049</td>\n",
       "      <td>Severe acute respiratory syndrome coronavirus 2</td>\n",
       "      <td>Betacoronavirus</td>\n",
       "      <td>Coronaviridae</td>\n",
       "      <td>SARS-CoV-2/human/CHN/Delta-1/2021</td>\n",
       "      <td>29858</td>\n",
       "      <td>GenBank</td>\n",
       "      <td>complete</td>\n",
       "      <td>Asia; China: Beijing</td>\n",
       "      <td>NaN</td>\n",
       "      <td>NaN</td>\n",
       "      <td>9606</td>\n",
       "      <td>NaT</td>\n",
       "      <td>NaN</td>\n",
       "      <td>NaN</td>\n",
       "      <td>Asia</td>\n",
       "    </tr>\n",
       "    <tr>\n",
       "      <th>254609</th>\n",
       "      <td>OL467832.1</td>\n",
       "      <td>2697049</td>\n",
       "      <td>Severe acute respiratory syndrome coronavirus 2</td>\n",
       "      <td>Betacoronavirus</td>\n",
       "      <td>Coronaviridae</td>\n",
       "      <td>SARS-CoV-2/human/USA/hCoV_19_USA_ID_IVREF_6520...</td>\n",
       "      <td>29831</td>\n",
       "      <td>GenBank</td>\n",
       "      <td>complete</td>\n",
       "      <td>North America; USA: Bingham, ID</td>\n",
       "      <td>NaN</td>\n",
       "      <td>NaN</td>\n",
       "      <td>9606</td>\n",
       "      <td>NaT</td>\n",
       "      <td>NaN</td>\n",
       "      <td>NaN</td>\n",
       "      <td>North America</td>\n",
       "    </tr>\n",
       "    <tr>\n",
       "      <th>806923</th>\n",
       "      <td>OM095411.1</td>\n",
       "      <td>2697049</td>\n",
       "      <td>Severe acute respiratory syndrome coronavirus 2</td>\n",
       "      <td>Betacoronavirus</td>\n",
       "      <td>Coronaviridae</td>\n",
       "      <td>SARS-CoV-2/human/CHN/Omicron-1/2021</td>\n",
       "      <td>29788</td>\n",
       "      <td>GenBank</td>\n",
       "      <td>complete</td>\n",
       "      <td>Asia; China: Beijing</td>\n",
       "      <td>NaN</td>\n",
       "      <td>NaN</td>\n",
       "      <td>9606</td>\n",
       "      <td>NaT</td>\n",
       "      <td>NaN</td>\n",
       "      <td>NaN</td>\n",
       "      <td>Asia</td>\n",
       "    </tr>\n",
       "  </tbody>\n",
       "</table>\n",
       "</div>"
      ],
      "text/plain": [
       "       nucleotide_accession  species_taxonomy_id  \\\n",
       "0               NC_045512.2              2697049   \n",
       "85948            OM061695.1              2697049   \n",
       "254609           OL467832.1              2697049   \n",
       "806923           OM095411.1              2697049   \n",
       "\n",
       "                                           species_name      virus_genus  \\\n",
       "0       Severe acute respiratory syndrome coronavirus 2  Betacoronavirus   \n",
       "85948   Severe acute respiratory syndrome coronavirus 2  Betacoronavirus   \n",
       "254609  Severe acute respiratory syndrome coronavirus 2  Betacoronavirus   \n",
       "806923  Severe acute respiratory syndrome coronavirus 2  Betacoronavirus   \n",
       "\n",
       "         virus_family                                       isolate_name  \\\n",
       "0       Coronaviridae                                         Wuhan-Hu-1   \n",
       "85948   Coronaviridae                  SARS-CoV-2/human/CHN/Delta-1/2021   \n",
       "254609  Coronaviridae  SARS-CoV-2/human/USA/hCoV_19_USA_ID_IVREF_6520...   \n",
       "806923  Coronaviridae                SARS-CoV-2/human/CHN/Omicron-1/2021   \n",
       "\n",
       "        nucleotide_length sequence_type nuc_completeness  \\\n",
       "0                   29903        RefSeq         complete   \n",
       "85948               29858       GenBank         complete   \n",
       "254609              29831       GenBank         complete   \n",
       "806923              29788       GenBank         complete   \n",
       "\n",
       "                           geo_location  us_state  host_name  \\\n",
       "0                           Asia; China       NaN        NaN   \n",
       "85948              Asia; China: Beijing       NaN        NaN   \n",
       "254609  North America; USA: Bingham, ID       NaN        NaN   \n",
       "806923             Asia; China: Beijing       NaN        NaN   \n",
       "\n",
       "        host_taxonomy_id collection_date   bioproject biosample      continent  \n",
       "0                   9606      2019-12-01  PRJNA485481       NaN           Asia  \n",
       "85948               9606             NaT          NaN       NaN           Asia  \n",
       "254609              9606             NaT          NaN       NaN  North America  \n",
       "806923              9606             NaT          NaN       NaN           Asia  "
      ]
     },
     "execution_count": 24,
     "metadata": {},
     "output_type": "execute_result"
    }
   ],
   "source": [
    "selected_sequences"
   ]
  },
  {
   "cell_type": "code",
   "execution_count": 25,
   "id": "0435892f",
   "metadata": {
    "execution": {
     "iopub.execute_input": "2024-10-08T12:08:46.691241Z",
     "iopub.status.busy": "2024-10-08T12:08:46.690915Z",
     "iopub.status.idle": "2024-10-08T12:09:00.383852Z",
     "shell.execute_reply": "2024-10-08T12:09:00.382652Z"
    },
    "papermill": {
     "duration": 13.710871,
     "end_time": "2024-10-08T12:09:00.386074",
     "exception": false,
     "start_time": "2024-10-08T12:08:46.675203",
     "status": "completed"
    },
    "tags": []
   },
   "outputs": [
    {
     "name": "stdout",
     "output_type": "stream",
     "text": [
      "Collecting biopython\r\n",
      "  Downloading biopython-1.84-cp310-cp310-manylinux_2_17_x86_64.manylinux2014_x86_64.whl.metadata (12 kB)\r\n",
      "Requirement already satisfied: numpy in /opt/conda/lib/python3.10/site-packages (from biopython) (1.26.4)\r\n",
      "Downloading biopython-1.84-cp310-cp310-manylinux_2_17_x86_64.manylinux2014_x86_64.whl (3.2 MB)\r\n",
      "\u001b[2K   \u001b[90m━━━━━━━━━━━━━━━━━━━━━━━━━━━━━━━━━━━━━━━━\u001b[0m \u001b[32m3.2/3.2 MB\u001b[0m \u001b[31m51.8 MB/s\u001b[0m eta \u001b[36m0:00:00\u001b[0m\r\n",
      "\u001b[?25hInstalling collected packages: biopython\r\n",
      "Successfully installed biopython-1.84\r\n",
      "Note: you may need to restart the kernel to use updated packages.\n"
     ]
    }
   ],
   "source": [
    "pip install biopython"
   ]
  },
  {
   "cell_type": "code",
   "execution_count": 26,
   "id": "a2cf0587",
   "metadata": {
    "execution": {
     "iopub.execute_input": "2024-10-08T12:09:00.421595Z",
     "iopub.status.busy": "2024-10-08T12:09:00.421255Z",
     "iopub.status.idle": "2024-10-08T12:09:00.430306Z",
     "shell.execute_reply": "2024-10-08T12:09:00.429449Z"
    },
    "papermill": {
     "duration": 0.028453,
     "end_time": "2024-10-08T12:09:00.432263",
     "exception": false,
     "start_time": "2024-10-08T12:09:00.403810",
     "status": "completed"
    },
    "tags": []
   },
   "outputs": [],
   "source": [
    "from Bio import Entrez\n",
    "Entrez.email = \"resourcebyte.shrivastava@gmail.com\""
   ]
  },
  {
   "cell_type": "code",
   "execution_count": 27,
   "id": "74b8640a",
   "metadata": {
    "execution": {
     "iopub.execute_input": "2024-10-08T12:09:00.464427Z",
     "iopub.status.busy": "2024-10-08T12:09:00.463920Z",
     "iopub.status.idle": "2024-10-08T12:09:00.468924Z",
     "shell.execute_reply": "2024-10-08T12:09:00.468023Z"
    },
    "papermill": {
     "duration": 0.02314,
     "end_time": "2024-10-08T12:09:00.470827",
     "exception": false,
     "start_time": "2024-10-08T12:09:00.447687",
     "status": "completed"
    },
    "tags": []
   },
   "outputs": [],
   "source": [
    "def download_sequence(id_code):\n",
    "    handle = Entrez.esearch(db=\"nucleotide\", term=id_code, retmax=\"1\")\n",
    "    record = Entrez.read(handle)\n",
    "    handle = Entrez.efetch(db=\"nucleotide\", id=record[\"IdList\"][0], rettype=\"fasta\", retmode=\"text\")\n",
    "    return handle.read()"
   ]
  },
  {
   "cell_type": "code",
   "execution_count": 28,
   "id": "a69250ae",
   "metadata": {
    "execution": {
     "iopub.execute_input": "2024-10-08T12:09:00.502971Z",
     "iopub.status.busy": "2024-10-08T12:09:00.502696Z",
     "iopub.status.idle": "2024-10-08T12:09:04.723558Z",
     "shell.execute_reply": "2024-10-08T12:09:04.722639Z"
    },
    "papermill": {
     "duration": 4.239583,
     "end_time": "2024-10-08T12:09:04.725869",
     "exception": false,
     "start_time": "2024-10-08T12:09:00.486286",
     "status": "completed"
    },
    "tags": []
   },
   "outputs": [],
   "source": [
    "sequence_data = {}\n",
    "for sequence in sequences:\n",
    "    sequence_data[sequence] = {\"fasta\": download_sequence(sequence)}"
   ]
  },
  {
   "cell_type": "code",
   "execution_count": 29,
   "id": "d71d6743",
   "metadata": {
    "execution": {
     "iopub.execute_input": "2024-10-08T12:09:04.759819Z",
     "iopub.status.busy": "2024-10-08T12:09:04.759468Z",
     "iopub.status.idle": "2024-10-08T12:09:04.853116Z",
     "shell.execute_reply": "2024-10-08T12:09:04.852430Z"
    },
    "papermill": {
     "duration": 0.112829,
     "end_time": "2024-10-08T12:09:04.855158",
     "exception": false,
     "start_time": "2024-10-08T12:09:04.742329",
     "status": "completed"
    },
    "tags": []
   },
   "outputs": [],
   "source": [
    "from Bio import SeqIO\n",
    "import io\n",
    "\n",
    "for k,v in sequence_data.items():\n",
    "    f = io.StringIO(v[\"fasta\"])\n",
    "    sequence_data[k][\"parsed\"] = list(SeqIO.parse(f, \"fasta\"))[0]"
   ]
  },
  {
   "cell_type": "code",
   "execution_count": 30,
   "id": "6f6f4277",
   "metadata": {
    "execution": {
     "iopub.execute_input": "2024-10-08T12:09:04.887863Z",
     "iopub.status.busy": "2024-10-08T12:09:04.887580Z",
     "iopub.status.idle": "2024-10-08T12:09:04.893249Z",
     "shell.execute_reply": "2024-10-08T12:09:04.892447Z"
    },
    "papermill": {
     "duration": 0.024428,
     "end_time": "2024-10-08T12:09:04.895243",
     "exception": false,
     "start_time": "2024-10-08T12:09:04.870815",
     "status": "completed"
    },
    "tags": []
   },
   "outputs": [
    {
     "data": {
      "text/plain": [
       "SeqRecord(seq=Seq('ATTAAAGGTTTATACCTTCCCAGGTAACAAACCAACCAACTTTCGATCTCTTGT...AAA'), id='NC_045512.2', name='NC_045512.2', description='NC_045512.2 Severe acute respiratory syndrome coronavirus 2 isolate Wuhan-Hu-1, complete genome', dbxrefs=[])"
      ]
     },
     "execution_count": 30,
     "metadata": {},
     "output_type": "execute_result"
    }
   ],
   "source": [
    "sequence_data[\"NC_045512.2\"][\"parsed\"]"
   ]
  },
  {
   "cell_type": "code",
   "execution_count": 31,
   "id": "e2480513",
   "metadata": {
    "execution": {
     "iopub.execute_input": "2024-10-08T12:09:04.927952Z",
     "iopub.status.busy": "2024-10-08T12:09:04.927674Z",
     "iopub.status.idle": "2024-10-08T12:09:04.933101Z",
     "shell.execute_reply": "2024-10-08T12:09:04.932334Z"
    },
    "papermill": {
     "duration": 0.024289,
     "end_time": "2024-10-08T12:09:04.935046",
     "exception": false,
     "start_time": "2024-10-08T12:09:04.910757",
     "status": "completed"
    },
    "tags": []
   },
   "outputs": [
    {
     "data": {
      "text/plain": [
       "SeqRecord(seq=Seq('CAACTTTCGATCTCTTGTAGATCTGTTCTCTAAACGAACTTTAAAATCTGTGTG...AGC'), id='OM095411.1', name='OM095411.1', description='OM095411.1 Severe acute respiratory syndrome coronavirus 2 isolate SARS-CoV-2/human/CHN/Omicron-1/2021, complete genome', dbxrefs=[])"
      ]
     },
     "execution_count": 31,
     "metadata": {},
     "output_type": "execute_result"
    }
   ],
   "source": [
    "sequence_data[\"OM095411.1\"][\"parsed\"]"
   ]
  },
  {
   "cell_type": "code",
   "execution_count": 32,
   "id": "cb32b8b9",
   "metadata": {
    "execution": {
     "iopub.execute_input": "2024-10-08T12:09:04.967750Z",
     "iopub.status.busy": "2024-10-08T12:09:04.967475Z",
     "iopub.status.idle": "2024-10-08T12:09:04.971327Z",
     "shell.execute_reply": "2024-10-08T12:09:04.970583Z"
    },
    "papermill": {
     "duration": 0.022682,
     "end_time": "2024-10-08T12:09:04.973239",
     "exception": false,
     "start_time": "2024-10-08T12:09:04.950557",
     "status": "completed"
    },
    "tags": []
   },
   "outputs": [],
   "source": [
    "from Bio import Align\n",
    "aligner = Align.PairwiseAligner()"
   ]
  },
  {
   "cell_type": "code",
   "execution_count": 33,
   "id": "ac1d3a46",
   "metadata": {
    "execution": {
     "iopub.execute_input": "2024-10-08T12:09:05.005480Z",
     "iopub.status.busy": "2024-10-08T12:09:05.005208Z",
     "iopub.status.idle": "2024-10-08T12:09:05.010333Z",
     "shell.execute_reply": "2024-10-08T12:09:05.009504Z"
    },
    "papermill": {
     "duration": 0.023403,
     "end_time": "2024-10-08T12:09:05.012294",
     "exception": false,
     "start_time": "2024-10-08T12:09:04.988891",
     "status": "completed"
    },
    "tags": []
   },
   "outputs": [
    {
     "data": {
      "text/plain": [
       "'Needleman-Wunsch'"
      ]
     },
     "execution_count": 33,
     "metadata": {},
     "output_type": "execute_result"
    }
   ],
   "source": [
    "aligner.algorithm"
   ]
  },
  {
   "cell_type": "code",
   "execution_count": 34,
   "id": "90d9b1c4",
   "metadata": {
    "execution": {
     "iopub.execute_input": "2024-10-08T12:09:05.044842Z",
     "iopub.status.busy": "2024-10-08T12:09:05.044562Z",
     "iopub.status.idle": "2024-10-08T12:09:09.196647Z",
     "shell.execute_reply": "2024-10-08T12:09:09.195669Z"
    },
    "papermill": {
     "duration": 4.170546,
     "end_time": "2024-10-08T12:09:09.198603",
     "exception": false,
     "start_time": "2024-10-08T12:09:05.028057",
     "status": "completed"
    },
    "tags": []
   },
   "outputs": [
    {
     "data": {
      "text/plain": [
       "29818.0"
      ]
     },
     "execution_count": 34,
     "metadata": {},
     "output_type": "execute_result"
    }
   ],
   "source": [
    "score = aligner.score(sequence_data[\"NC_045512.2\"][\"parsed\"].seq, sequence_data[\"OM061695.1\"][\"parsed\"].seq)\n",
    "score"
   ]
  },
  {
   "cell_type": "code",
   "execution_count": 35,
   "id": "f1c95486",
   "metadata": {
    "execution": {
     "iopub.execute_input": "2024-10-08T12:09:09.232444Z",
     "iopub.status.busy": "2024-10-08T12:09:09.232109Z",
     "iopub.status.idle": "2024-10-08T12:09:50.759794Z",
     "shell.execute_reply": "2024-10-08T12:09:50.758948Z"
    },
    "papermill": {
     "duration": 41.547145,
     "end_time": "2024-10-08T12:09:50.762208",
     "exception": false,
     "start_time": "2024-10-08T12:09:09.215063",
     "status": "completed"
    },
    "tags": []
   },
   "outputs": [],
   "source": [
    "import numpy as np\n",
    "\n",
    "comparisons = np.zeros((4,4))\n",
    "\n",
    "for i in range(0,4):\n",
    "    for j in range(0,i+1):\n",
    "        score =aligner.score(sequence_data[sequences[i]][\"parsed\"].seq, sequence_data[sequences[j]][\"parsed\"].seq)\n",
    "        comparisons[i,j] = score"
   ]
  },
  {
   "cell_type": "code",
   "execution_count": 36,
   "id": "e2ec70c8",
   "metadata": {
    "execution": {
     "iopub.execute_input": "2024-10-08T12:09:50.796740Z",
     "iopub.status.busy": "2024-10-08T12:09:50.796378Z",
     "iopub.status.idle": "2024-10-08T12:09:50.801621Z",
     "shell.execute_reply": "2024-10-08T12:09:50.800856Z"
    },
    "papermill": {
     "duration": 0.024311,
     "end_time": "2024-10-08T12:09:50.803537",
     "exception": false,
     "start_time": "2024-10-08T12:09:50.779226",
     "status": "completed"
    },
    "tags": []
   },
   "outputs": [],
   "source": [
    "comparison_df = pd.DataFrame(comparisons, columns=human_names, index=human_names)"
   ]
  },
  {
   "cell_type": "code",
   "execution_count": 37,
   "id": "9744450a",
   "metadata": {
    "execution": {
     "iopub.execute_input": "2024-10-08T12:09:50.836817Z",
     "iopub.status.busy": "2024-10-08T12:09:50.836508Z",
     "iopub.status.idle": "2024-10-08T12:09:50.849500Z",
     "shell.execute_reply": "2024-10-08T12:09:50.848613Z"
    },
    "papermill": {
     "duration": 0.031868,
     "end_time": "2024-10-08T12:09:50.851422",
     "exception": false,
     "start_time": "2024-10-08T12:09:50.819554",
     "status": "completed"
    },
    "tags": []
   },
   "outputs": [
    {
     "data": {
      "text/html": [
       "<div>\n",
       "<style scoped>\n",
       "    .dataframe tbody tr th:only-of-type {\n",
       "        vertical-align: middle;\n",
       "    }\n",
       "\n",
       "    .dataframe tbody tr th {\n",
       "        vertical-align: top;\n",
       "    }\n",
       "\n",
       "    .dataframe thead th {\n",
       "        text-align: right;\n",
       "    }\n",
       "</style>\n",
       "<table border=\"1\" class=\"dataframe\">\n",
       "  <thead>\n",
       "    <tr style=\"text-align: right;\">\n",
       "      <th></th>\n",
       "      <th>reference</th>\n",
       "      <th>base</th>\n",
       "      <th>delta</th>\n",
       "      <th>omicron</th>\n",
       "    </tr>\n",
       "  </thead>\n",
       "  <tbody>\n",
       "    <tr>\n",
       "      <th>reference</th>\n",
       "      <td>29903.0</td>\n",
       "      <td>0.0</td>\n",
       "      <td>0.0</td>\n",
       "      <td>0.0</td>\n",
       "    </tr>\n",
       "    <tr>\n",
       "      <th>base</th>\n",
       "      <td>29820.0</td>\n",
       "      <td>29831.0</td>\n",
       "      <td>0.0</td>\n",
       "      <td>0.0</td>\n",
       "    </tr>\n",
       "    <tr>\n",
       "      <th>delta</th>\n",
       "      <td>29818.0</td>\n",
       "      <td>29775.0</td>\n",
       "      <td>29858.0</td>\n",
       "      <td>0.0</td>\n",
       "    </tr>\n",
       "    <tr>\n",
       "      <th>omicron</th>\n",
       "      <td>29725.0</td>\n",
       "      <td>29722.0</td>\n",
       "      <td>29688.0</td>\n",
       "      <td>29788.0</td>\n",
       "    </tr>\n",
       "  </tbody>\n",
       "</table>\n",
       "</div>"
      ],
      "text/plain": [
       "           reference     base    delta  omicron\n",
       "reference    29903.0      0.0      0.0      0.0\n",
       "base         29820.0  29831.0      0.0      0.0\n",
       "delta        29818.0  29775.0  29858.0      0.0\n",
       "omicron      29725.0  29722.0  29688.0  29788.0"
      ]
     },
     "execution_count": 37,
     "metadata": {},
     "output_type": "execute_result"
    }
   ],
   "source": [
    "comparison_df"
   ]
  },
  {
   "cell_type": "code",
   "execution_count": 38,
   "id": "a06da847",
   "metadata": {
    "execution": {
     "iopub.execute_input": "2024-10-08T12:09:50.884901Z",
     "iopub.status.busy": "2024-10-08T12:09:50.884624Z",
     "iopub.status.idle": "2024-10-08T12:09:50.891963Z",
     "shell.execute_reply": "2024-10-08T12:09:50.891149Z"
    },
    "papermill": {
     "duration": 0.026305,
     "end_time": "2024-10-08T12:09:50.893873",
     "exception": false,
     "start_time": "2024-10-08T12:09:50.867568",
     "status": "completed"
    },
    "tags": []
   },
   "outputs": [
    {
     "data": {
      "text/plain": [
       "reference    1.000000\n",
       "base         0.997224\n",
       "delta        0.997157\n",
       "omicron      0.994047\n",
       "Name: reference, dtype: float64"
      ]
     },
     "execution_count": 38,
     "metadata": {},
     "output_type": "execute_result"
    }
   ],
   "source": [
    "comparison_df.iloc[:,0] / 29903"
   ]
  },
  {
   "cell_type": "code",
   "execution_count": 39,
   "id": "207a31e9",
   "metadata": {
    "execution": {
     "iopub.execute_input": "2024-10-08T12:09:50.928669Z",
     "iopub.status.busy": "2024-10-08T12:09:50.927976Z",
     "iopub.status.idle": "2024-10-08T12:09:58.286041Z",
     "shell.execute_reply": "2024-10-08T12:09:58.285034Z"
    },
    "papermill": {
     "duration": 7.377711,
     "end_time": "2024-10-08T12:09:58.288123",
     "exception": false,
     "start_time": "2024-10-08T12:09:50.910412",
     "status": "completed"
    },
    "tags": []
   },
   "outputs": [],
   "source": [
    "seq1 = sequence_data[\"NC_045512.2\"][\"parsed\"].seq\n",
    "seq2 = sequence_data[\"OM061695.1\"][\"parsed\"].seq\n",
    "delta_alignments = aligner.align(seq1, seq2)"
   ]
  },
  {
   "cell_type": "code",
   "execution_count": 40,
   "id": "1219734b",
   "metadata": {
    "execution": {
     "iopub.execute_input": "2024-10-08T12:09:58.324233Z",
     "iopub.status.busy": "2024-10-08T12:09:58.323858Z",
     "iopub.status.idle": "2024-10-08T12:09:58.329777Z",
     "shell.execute_reply": "2024-10-08T12:09:58.328870Z"
    },
    "papermill": {
     "duration": 0.026455,
     "end_time": "2024-10-08T12:09:58.331608",
     "exception": false,
     "start_time": "2024-10-08T12:09:58.305153",
     "status": "completed"
    },
    "tags": []
   },
   "outputs": [
    {
     "data": {
      "text/plain": [
       "<Bio.Align.PairwiseAlignments at 0x7917ae587970>"
      ]
     },
     "execution_count": 40,
     "metadata": {},
     "output_type": "execute_result"
    }
   ],
   "source": [
    "delta_alignments"
   ]
  },
  {
   "cell_type": "code",
   "execution_count": 41,
   "id": "f54eaf17",
   "metadata": {
    "execution": {
     "iopub.execute_input": "2024-10-08T12:09:58.366603Z",
     "iopub.status.busy": "2024-10-08T12:09:58.366283Z",
     "iopub.status.idle": "2024-10-08T12:09:58.372496Z",
     "shell.execute_reply": "2024-10-08T12:09:58.371623Z"
    },
    "papermill": {
     "duration": 0.02588,
     "end_time": "2024-10-08T12:09:58.374349",
     "exception": false,
     "start_time": "2024-10-08T12:09:58.348469",
     "status": "completed"
    },
    "tags": []
   },
   "outputs": [],
   "source": [
    "delta_alignment = delta_alignments[0]"
   ]
  },
  {
   "cell_type": "code",
   "execution_count": 42,
   "id": "57e1f326",
   "metadata": {
    "execution": {
     "iopub.execute_input": "2024-10-08T12:09:58.408714Z",
     "iopub.status.busy": "2024-10-08T12:09:58.408423Z",
     "iopub.status.idle": "2024-10-08T12:09:58.414358Z",
     "shell.execute_reply": "2024-10-08T12:09:58.413464Z"
    },
    "papermill": {
     "duration": 0.025406,
     "end_time": "2024-10-08T12:09:58.416389",
     "exception": false,
     "start_time": "2024-10-08T12:09:58.390983",
     "status": "completed"
    },
    "tags": []
   },
   "outputs": [
    {
     "data": {
      "text/plain": [
       "(2, 29943)"
      ]
     },
     "execution_count": 42,
     "metadata": {},
     "output_type": "execute_result"
    }
   ],
   "source": [
    "delta_alignment.shape"
   ]
  },
  {
   "cell_type": "code",
   "execution_count": 43,
   "id": "afaf1dca",
   "metadata": {
    "execution": {
     "iopub.execute_input": "2024-10-08T12:09:58.450845Z",
     "iopub.status.busy": "2024-10-08T12:09:58.450573Z",
     "iopub.status.idle": "2024-10-08T12:09:58.459543Z",
     "shell.execute_reply": "2024-10-08T12:09:58.458629Z"
    },
    "papermill": {
     "duration": 0.028531,
     "end_time": "2024-10-08T12:09:58.461562",
     "exception": false,
     "start_time": "2024-10-08T12:09:58.433031",
     "status": "completed"
    },
    "tags": []
   },
   "outputs": [
    {
     "data": {
      "text/plain": [
       "array([[[    0,   209],\n",
       "        [  210,   212],\n",
       "        [  212,   240],\n",
       "        [  241,  1047],\n",
       "        [ 1048,  1273],\n",
       "        [ 1274,  1276],\n",
       "        [ 1276,  3036],\n",
       "        [ 3037,  3038],\n",
       "        [ 3038,  4180],\n",
       "        [ 4181,  6401],\n",
       "        [ 6402,  7123],\n",
       "        [ 7123,  7124],\n",
       "        [ 7125,  8985],\n",
       "        [ 8986,  8989],\n",
       "        [ 8989,  9052],\n",
       "        [ 9053,  9054],\n",
       "        [ 9054, 10028],\n",
       "        [10028, 10029],\n",
       "        [10030, 10506],\n",
       "        [10507, 11116],\n",
       "        [11117, 11200],\n",
       "        [11201, 11331],\n",
       "        [11332, 11333],\n",
       "        [11333, 14407],\n",
       "        [14408, 14409],\n",
       "        [14409, 15450],\n",
       "        [15450, 15451],\n",
       "        [15452, 16465],\n",
       "        [16466, 19219],\n",
       "        [19220, 19221],\n",
       "        [19221, 21617],\n",
       "        [21618, 21986],\n",
       "        [21987, 22028],\n",
       "        [22029, 22030],\n",
       "        [22033, 22035],\n",
       "        [22037, 22916],\n",
       "        [22917, 22918],\n",
       "        [22918, 22994],\n",
       "        [22995, 22996],\n",
       "        [22996, 23402],\n",
       "        [23403, 23603],\n",
       "        [23604, 24409],\n",
       "        [24410, 24411],\n",
       "        [24411, 25087],\n",
       "        [25088, 25090],\n",
       "        [25090, 25351],\n",
       "        [25352, 25353],\n",
       "        [25353, 25468],\n",
       "        [25469, 26423],\n",
       "        [26424, 26425],\n",
       "        [26425, 26766],\n",
       "        [26767, 26768],\n",
       "        [26768, 27526],\n",
       "        [27527, 27637],\n",
       "        [27637, 27639],\n",
       "        [27640, 27751],\n",
       "        [27752, 27873],\n",
       "        [27874, 27876],\n",
       "        [27876, 28247],\n",
       "        [28248, 28250],\n",
       "        [28252, 28253],\n",
       "        [28254, 28255],\n",
       "        [28257, 28273],\n",
       "        [28274, 28460],\n",
       "        [28461, 28880],\n",
       "        [28880, 28883],\n",
       "        [28884, 28915],\n",
       "        [28915, 28916],\n",
       "        [28917, 29401],\n",
       "        [29402, 29741],\n",
       "        [29742, 29871]],\n",
       "\n",
       "       [[    0,   209],\n",
       "        [  209,   211],\n",
       "        [  212,   240],\n",
       "        [  241,  1047],\n",
       "        [ 1048,  1273],\n",
       "        [ 1273,  1275],\n",
       "        [ 1276,  3036],\n",
       "        [ 3036,  3037],\n",
       "        [ 3038,  4180],\n",
       "        [ 4181,  6401],\n",
       "        [ 6402,  7123],\n",
       "        [ 7124,  7125],\n",
       "        [ 7125,  8985],\n",
       "        [ 8985,  8988],\n",
       "        [ 8989,  9052],\n",
       "        [ 9052,  9053],\n",
       "        [ 9054, 10028],\n",
       "        [10029, 10030],\n",
       "        [10030, 10506],\n",
       "        [10507, 11116],\n",
       "        [11117, 11200],\n",
       "        [11201, 11331],\n",
       "        [11331, 11332],\n",
       "        [11333, 14407],\n",
       "        [14407, 14408],\n",
       "        [14409, 15450],\n",
       "        [15451, 15452],\n",
       "        [15452, 16465],\n",
       "        [16466, 19219],\n",
       "        [19219, 19220],\n",
       "        [19221, 21617],\n",
       "        [21618, 21986],\n",
       "        [21987, 22028],\n",
       "        [22028, 22029],\n",
       "        [22029, 22031],\n",
       "        [22031, 22910],\n",
       "        [22910, 22911],\n",
       "        [22912, 22988],\n",
       "        [22988, 22989],\n",
       "        [22990, 23396],\n",
       "        [23397, 23597],\n",
       "        [23598, 24403],\n",
       "        [24403, 24404],\n",
       "        [24405, 25081],\n",
       "        [25081, 25083],\n",
       "        [25084, 25345],\n",
       "        [25345, 25346],\n",
       "        [25347, 25462],\n",
       "        [25463, 26417],\n",
       "        [26417, 26418],\n",
       "        [26419, 26760],\n",
       "        [26760, 26761],\n",
       "        [26762, 27520],\n",
       "        [27521, 27631],\n",
       "        [27632, 27634],\n",
       "        [27634, 27745],\n",
       "        [27746, 27867],\n",
       "        [27867, 27869],\n",
       "        [27870, 28241],\n",
       "        [28241, 28243],\n",
       "        [28243, 28244],\n",
       "        [28244, 28245],\n",
       "        [28245, 28261],\n",
       "        [28261, 28447],\n",
       "        [28448, 28867],\n",
       "        [28868, 28871],\n",
       "        [28871, 28902],\n",
       "        [28903, 28904],\n",
       "        [28904, 29388],\n",
       "        [29389, 29728],\n",
       "        [29729, 29858]]])"
      ]
     },
     "execution_count": 43,
     "metadata": {},
     "output_type": "execute_result"
    }
   ],
   "source": [
    "delta_alignment.aligned"
   ]
  },
  {
   "cell_type": "code",
   "execution_count": null,
   "id": "fa96f24e",
   "metadata": {
    "papermill": {
     "duration": 0.018012,
     "end_time": "2024-10-08T12:09:58.498615",
     "exception": false,
     "start_time": "2024-10-08T12:09:58.480603",
     "status": "completed"
    },
    "tags": []
   },
   "outputs": [],
   "source": []
  }
 ],
 "metadata": {
  "kaggle": {
   "accelerator": "none",
   "dataSources": [
    {
     "datasetId": 5837458,
     "sourceId": 9575605,
     "sourceType": "datasetVersion"
    }
   ],
   "dockerImageVersionId": 30786,
   "isGpuEnabled": false,
   "isInternetEnabled": true,
   "language": "python",
   "sourceType": "notebook"
  },
  "kernelspec": {
   "display_name": "Python 3",
   "language": "python",
   "name": "python3"
  },
  "language_info": {
   "codemirror_mode": {
    "name": "ipython",
    "version": 3
   },
   "file_extension": ".py",
   "mimetype": "text/x-python",
   "name": "python",
   "nbconvert_exporter": "python",
   "pygments_lexer": "ipython3",
   "version": "3.10.14"
  },
  "papermill": {
   "default_parameters": {},
   "duration": 85.066951,
   "end_time": "2024-10-08T12:09:59.235294",
   "environment_variables": {},
   "exception": null,
   "input_path": "__notebook__.ipynb",
   "output_path": "__notebook__.ipynb",
   "parameters": {},
   "start_time": "2024-10-08T12:08:34.168343",
   "version": "2.6.0"
  }
 },
 "nbformat": 4,
 "nbformat_minor": 5
}
