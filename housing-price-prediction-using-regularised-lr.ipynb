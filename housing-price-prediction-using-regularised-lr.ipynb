{
 "cells": [
  {
   "cell_type": "code",
   "execution_count": 1,
   "id": "072bc8a0",
   "metadata": {
    "_cell_guid": "b1076dfc-b9ad-4769-8c92-a6c4dae69d19",
    "_uuid": "8f2839f25d086af736a60e9eeb907d3b93b6e0e5",
    "execution": {
     "iopub.execute_input": "2024-10-08T12:58:03.751069Z",
     "iopub.status.busy": "2024-10-08T12:58:03.750662Z",
     "iopub.status.idle": "2024-10-08T12:58:04.501404Z",
     "shell.execute_reply": "2024-10-08T12:58:04.500517Z"
    },
    "papermill": {
     "duration": 0.758524,
     "end_time": "2024-10-08T12:58:04.503519",
     "exception": false,
     "start_time": "2024-10-08T12:58:03.744995",
     "status": "completed"
    },
    "tags": []
   },
   "outputs": [
    {
     "name": "stdout",
     "output_type": "stream",
     "text": [
      "/kaggle/input/housing-price-data/Housing Price data set.csv\n"
     ]
    }
   ],
   "source": [
    "# This Python 3 environment comes with many helpful analytics libraries installed\n",
    "# It is defined by the kaggle/python Docker image: https://github.com/kaggle/docker-python\n",
    "# For example, here's several helpful packages to load\n",
    "\n",
    "import numpy as np # linear algebra\n",
    "import pandas as pd # data processing, CSV file I/O (e.g. pd.read_csv)\n",
    "\n",
    "# Input data files are available in the read-only \"../input/\" directory\n",
    "# For example, running this (by clicking run or pressing Shift+Enter) will list all files under the input directory\n",
    "\n",
    "import os\n",
    "for dirname, _, filenames in os.walk('/kaggle/input'):\n",
    "    for filename in filenames:\n",
    "        print(os.path.join(dirname, filename))\n",
    "\n",
    "# You can write up to 20GB to the current directory (/kaggle/working/) that gets preserved as output when you create a version using \"Save & Run All\" \n",
    "# You can also write temporary files to /kaggle/temp/, but they won't be saved outside of the current session"
   ]
  },
  {
   "cell_type": "markdown",
   "id": "7194e0e5",
   "metadata": {
    "papermill": {
     "duration": 0.003626,
     "end_time": "2024-10-08T12:58:04.511273",
     "exception": false,
     "start_time": "2024-10-08T12:58:04.507647",
     "status": "completed"
    },
    "tags": []
   },
   "source": [
    "# Housing price prediction using linear regression"
   ]
  },
  {
   "cell_type": "code",
   "execution_count": 2,
   "id": "c984c1ae",
   "metadata": {
    "execution": {
     "iopub.execute_input": "2024-10-08T12:58:04.520134Z",
     "iopub.status.busy": "2024-10-08T12:58:04.519706Z",
     "iopub.status.idle": "2024-10-08T12:58:04.524026Z",
     "shell.execute_reply": "2024-10-08T12:58:04.523184Z"
    },
    "papermill": {
     "duration": 0.010912,
     "end_time": "2024-10-08T12:58:04.525921",
     "exception": false,
     "start_time": "2024-10-08T12:58:04.515009",
     "status": "completed"
    },
    "tags": []
   },
   "outputs": [],
   "source": [
    "import numpy as np\n",
    "import pandas as pd\n",
    "import matplotlib.pyplot as plt"
   ]
  },
  {
   "cell_type": "code",
   "execution_count": 3,
   "id": "082a03f2",
   "metadata": {
    "execution": {
     "iopub.execute_input": "2024-10-08T12:58:04.534467Z",
     "iopub.status.busy": "2024-10-08T12:58:04.534164Z",
     "iopub.status.idle": "2024-10-08T12:58:04.551534Z",
     "shell.execute_reply": "2024-10-08T12:58:04.550817Z"
    },
    "papermill": {
     "duration": 0.023773,
     "end_time": "2024-10-08T12:58:04.553466",
     "exception": false,
     "start_time": "2024-10-08T12:58:04.529693",
     "status": "completed"
    },
    "tags": []
   },
   "outputs": [],
   "source": [
    "data = pd.read_csv('/kaggle/input/housing-price-data/Housing Price data set.csv')"
   ]
  },
  {
   "cell_type": "code",
   "execution_count": 4,
   "id": "35491000",
   "metadata": {
    "execution": {
     "iopub.execute_input": "2024-10-08T12:58:04.562497Z",
     "iopub.status.busy": "2024-10-08T12:58:04.562196Z",
     "iopub.status.idle": "2024-10-08T12:58:04.591338Z",
     "shell.execute_reply": "2024-10-08T12:58:04.590485Z"
    },
    "papermill": {
     "duration": 0.035922,
     "end_time": "2024-10-08T12:58:04.593186",
     "exception": false,
     "start_time": "2024-10-08T12:58:04.557264",
     "status": "completed"
    },
    "tags": []
   },
   "outputs": [
    {
     "name": "stderr",
     "output_type": "stream",
     "text": [
      "/tmp/ipykernel_24/1943858792.py:2: FutureWarning: Series.__getitem__ treating keys as positions is deprecated. In a future version, integer keys will always be treated as labels (consistent with DataFrame behavior). To access a value by position, use `ser.iloc[pos]`\n",
      "  mean = data.mean()[0]\n",
      "/tmp/ipykernel_24/1943858792.py:3: FutureWarning: Series.__getitem__ treating keys as positions is deprecated. In a future version, integer keys will always be treated as labels (consistent with DataFrame behavior). To access a value by position, use `ser.iloc[pos]`\n",
      "  stddev = data.std()[0]\n"
     ]
    },
    {
     "data": {
      "text/html": [
       "<div>\n",
       "<style scoped>\n",
       "    .dataframe tbody tr th:only-of-type {\n",
       "        vertical-align: middle;\n",
       "    }\n",
       "\n",
       "    .dataframe tbody tr th {\n",
       "        vertical-align: top;\n",
       "    }\n",
       "\n",
       "    .dataframe thead th {\n",
       "        text-align: right;\n",
       "    }\n",
       "</style>\n",
       "<table border=\"1\" class=\"dataframe\">\n",
       "  <thead>\n",
       "    <tr style=\"text-align: right;\">\n",
       "      <th></th>\n",
       "      <th>price</th>\n",
       "      <th>lotsize</th>\n",
       "      <th>bedrooms</th>\n",
       "      <th>bathrms</th>\n",
       "      <th>stories</th>\n",
       "      <th>garagepl</th>\n",
       "    </tr>\n",
       "  </thead>\n",
       "  <tbody>\n",
       "    <tr>\n",
       "      <th>0</th>\n",
       "      <td>-0.978239</td>\n",
       "      <td>0.322732</td>\n",
       "      <td>0.047192</td>\n",
       "      <td>-0.568973</td>\n",
       "      <td>0.221501</td>\n",
       "      <td>0.357239</td>\n",
       "    </tr>\n",
       "    <tr>\n",
       "      <th>1</th>\n",
       "      <td>-1.109312</td>\n",
       "      <td>-0.530526</td>\n",
       "      <td>-1.308947</td>\n",
       "      <td>-0.568973</td>\n",
       "      <td>-0.930304</td>\n",
       "      <td>-0.803788</td>\n",
       "    </tr>\n",
       "    <tr>\n",
       "      <th>2</th>\n",
       "      <td>-0.697368</td>\n",
       "      <td>-0.964074</td>\n",
       "      <td>0.047192</td>\n",
       "      <td>-0.568973</td>\n",
       "      <td>-0.930304</td>\n",
       "      <td>-0.803788</td>\n",
       "    </tr>\n",
       "    <tr>\n",
       "      <th>3</th>\n",
       "      <td>-0.285425</td>\n",
       "      <td>0.691709</td>\n",
       "      <td>0.047192</td>\n",
       "      <td>-0.568973</td>\n",
       "      <td>0.221501</td>\n",
       "      <td>-0.803788</td>\n",
       "    </tr>\n",
       "    <tr>\n",
       "      <th>4</th>\n",
       "      <td>-0.266700</td>\n",
       "      <td>0.557955</td>\n",
       "      <td>-1.308947</td>\n",
       "      <td>-0.568973</td>\n",
       "      <td>-0.930304</td>\n",
       "      <td>-0.803788</td>\n",
       "    </tr>\n",
       "  </tbody>\n",
       "</table>\n",
       "</div>"
      ],
      "text/plain": [
       "      price   lotsize  bedrooms   bathrms   stories  garagepl\n",
       "0 -0.978239  0.322732  0.047192 -0.568973  0.221501  0.357239\n",
       "1 -1.109312 -0.530526 -1.308947 -0.568973 -0.930304 -0.803788\n",
       "2 -0.697368 -0.964074  0.047192 -0.568973 -0.930304 -0.803788\n",
       "3 -0.285425  0.691709  0.047192 -0.568973  0.221501 -0.803788\n",
       "4 -0.266700  0.557955 -1.308947 -0.568973 -0.930304 -0.803788"
      ]
     },
     "execution_count": 4,
     "metadata": {},
     "output_type": "execute_result"
    }
   ],
   "source": [
    "data = data.drop(['Unnamed: 0','driveway','recroom','fullbase','airco','prefarea','gashw'], axis=1)\n",
    "mean = data.mean()[0]\n",
    "stddev = data.std()[0]\n",
    "data = (data - data.mean())/data.std()\n",
    "\n",
    "data.head()"
   ]
  },
  {
   "cell_type": "code",
   "execution_count": 5,
   "id": "bf528315",
   "metadata": {
    "execution": {
     "iopub.execute_input": "2024-10-08T12:58:04.603755Z",
     "iopub.status.busy": "2024-10-08T12:58:04.603185Z",
     "iopub.status.idle": "2024-10-08T12:58:04.609422Z",
     "shell.execute_reply": "2024-10-08T12:58:04.608595Z"
    },
    "papermill": {
     "duration": 0.014021,
     "end_time": "2024-10-08T12:58:04.611283",
     "exception": false,
     "start_time": "2024-10-08T12:58:04.597262",
     "status": "completed"
    },
    "tags": []
   },
   "outputs": [],
   "source": [
    "data = np.asarray(data)\n",
    "Y = data[:,0:1]\n",
    "X = data[:,1:]\n",
    "one = np.ones((len(X),1))\n",
    "X = np.concatenate((one, X), axis=1)\n",
    "split_ratio=0.9\n",
    "split = int(split_ratio * X.shape[0])\n",
    "X_test = X[split+1:,:]\n",
    "X_train = X[:split+1,:]\n",
    "Y_test = Y[split+1:,:]\n",
    "Y_train = Y[:split+1,:]"
   ]
  },
  {
   "cell_type": "code",
   "execution_count": 6,
   "id": "c711f5dd",
   "metadata": {
    "execution": {
     "iopub.execute_input": "2024-10-08T12:58:04.620365Z",
     "iopub.status.busy": "2024-10-08T12:58:04.620092Z",
     "iopub.status.idle": "2024-10-08T12:58:04.628013Z",
     "shell.execute_reply": "2024-10-08T12:58:04.627263Z"
    },
    "papermill": {
     "duration": 0.014657,
     "end_time": "2024-10-08T12:58:04.629981",
     "exception": false,
     "start_time": "2024-10-08T12:58:04.615324",
     "status": "completed"
    },
    "tags": []
   },
   "outputs": [],
   "source": [
    "# helper Functions\n",
    "def computeCost(X,y,theta,lam):\n",
    "    tobesummed = np.power(((X.dot(theta.T))-y),2)+lam*np.sum(np.power(theta,2))\n",
    "    return np.sum(tobesummed)/(2 * len(X))\n",
    "\n",
    "def denormalise_price(price):\n",
    "    global mean\n",
    "    global stddev\n",
    "    ret = price * stddev + mean\n",
    "    return ret\n",
    "\n",
    "def computeError(predicted, actual):\n",
    "    error = 0\n",
    "    for i in range(len(predicted)):\n",
    "        error += abs(actual[i] - predicted[i]) / actual[i]\n",
    "    error /= len(actual)\n",
    "    return error[0]\n",
    "\n",
    "def plotGraph(x,y,labelX='X',labelY='Y',title='X vs Y'):\n",
    "  fig, ax = plt.subplots()  \n",
    "  ax.plot(x, y, 'r')\n",
    "  ax.set_xlabel(labelX) \n",
    "  ax.set_ylabel(labelY)  \n",
    "  ax.set_title(title)"
   ]
  },
  {
   "cell_type": "code",
   "execution_count": 7,
   "id": "e4757cdf",
   "metadata": {
    "execution": {
     "iopub.execute_input": "2024-10-08T12:58:04.639086Z",
     "iopub.status.busy": "2024-10-08T12:58:04.638780Z",
     "iopub.status.idle": "2024-10-08T12:58:04.644055Z",
     "shell.execute_reply": "2024-10-08T12:58:04.643258Z"
    },
    "papermill": {
     "duration": 0.012124,
     "end_time": "2024-10-08T12:58:04.646108",
     "exception": false,
     "start_time": "2024-10-08T12:58:04.633984",
     "status": "completed"
    },
    "tags": []
   },
   "outputs": [],
   "source": [
    "# Gradient Descent\n",
    "def gradientDescent(X,y,theta,iters,alpha,lam):\n",
    "    lam_matrix = lam * np.ones(theta.shape)\n",
    "    lam_matrix[0][0] = 0\n",
    "    for i in range(iters):\n",
    "        theta = theta * (1 - lam_matrix / len(X)) - (alpha/len(X)) * np.sum(X * (X @ theta.T - y), axis=0)\n",
    "    return theta"
   ]
  },
  {
   "cell_type": "code",
   "execution_count": 8,
   "id": "7d854455",
   "metadata": {
    "execution": {
     "iopub.execute_input": "2024-10-08T12:58:04.655360Z",
     "iopub.status.busy": "2024-10-08T12:58:04.655089Z",
     "iopub.status.idle": "2024-10-08T12:58:04.659878Z",
     "shell.execute_reply": "2024-10-08T12:58:04.659096Z"
    },
    "papermill": {
     "duration": 0.011477,
     "end_time": "2024-10-08T12:58:04.661775",
     "exception": false,
     "start_time": "2024-10-08T12:58:04.650298",
     "status": "completed"
    },
    "tags": []
   },
   "outputs": [],
   "source": [
    "# Normal equation\n",
    "def normalEquation(X,Y,lam):\n",
    "    lam_matrix=lam*np.identity(X.shape[1])\n",
    "    lam_matrix[0][0]=0\n",
    "    theta = np.linalg.inv(X.T.dot(X) + lam_matrix).dot(X.T).dot(Y)\n",
    "    return theta"
   ]
  },
  {
   "cell_type": "markdown",
   "id": "fa81acb2",
   "metadata": {
    "papermill": {
     "duration": 0.003981,
     "end_time": "2024-10-08T12:58:04.669875",
     "exception": false,
     "start_time": "2024-10-08T12:58:04.665894",
     "status": "completed"
    },
    "tags": []
   },
   "source": [
    "8. Train the model with train data and predict the test data using gradient descent\n",
    "9. Compute the minimum error and lambda\n",
    "10. plot error vs lambda graph"
   ]
  },
  {
   "cell_type": "code",
   "execution_count": 9,
   "id": "7c3b6e56",
   "metadata": {
    "execution": {
     "iopub.execute_input": "2024-10-08T12:58:04.679266Z",
     "iopub.status.busy": "2024-10-08T12:58:04.678656Z",
     "iopub.status.idle": "2024-10-08T12:58:15.578866Z",
     "shell.execute_reply": "2024-10-08T12:58:15.577960Z"
    },
    "papermill": {
     "duration": 10.906959,
     "end_time": "2024-10-08T12:58:15.580809",
     "exception": false,
     "start_time": "2024-10-08T12:58:04.673850",
     "status": "completed"
    },
    "tags": []
   },
   "outputs": [
    {
     "name": "stdout",
     "output_type": "stream",
     "text": [
      "min Error  :  13.960611355440056 %\n",
      "Optimal Lambda :  24\n"
     ]
    },
    {
     "data": {
      "image/png": "[encoded data removed]",
      "text/plain": [
       "<Figure size 640x480 with 1 Axes>"
      ]
     },
     "metadata": {},
     "output_type": "display_data"
    }
   ],
   "source": [
    "theta = np.zeros([1,X.shape[1]])\n",
    "alpha = .1 #learning rate\n",
    "iters = 500 #epoch\n",
    "error_matrix = []\n",
    "lam_range = 600 #maximam lamda\n",
    "for lam in range(lam_range):\n",
    "    g = gradientDescent(X_train,Y_train,theta,iters,alpha, lam)\n",
    "    Cost = computeCost(X_train,Y_train,g,lam)\n",
    "\n",
    "    Y_pred = X_test.dot(g.T)\n",
    "    error = computeError(denormalise_price(Y_pred),denormalise_price(Y_test))\n",
    "    error_matrix.append(error*100)\n",
    "optimal_lambda = 0\n",
    "min_error = 9999\n",
    "for i in range(len(error_matrix)):\n",
    "    if error_matrix[i] < min_error:\n",
    "        optimal_lambda = i\n",
    "        min_error = error_matrix[i]\n",
    "\n",
    "print(\"min Error  : \", (min_error),'%')\n",
    "print(\"Optimal Lambda : \", optimal_lambda)\n",
    "plotGraph(np.arange(lam_range),error_matrix,'lambda','error','lambda vs error')"
   ]
  },
  {
   "cell_type": "code",
   "execution_count": null,
   "id": "e5ad7944",
   "metadata": {
    "papermill": {
     "duration": 0.004331,
     "end_time": "2024-10-08T12:58:15.589784",
     "exception": false,
     "start_time": "2024-10-08T12:58:15.585453",
     "status": "completed"
    },
    "tags": []
   },
   "outputs": [],
   "source": []
  }
 ],
 "metadata": {
  "kaggle": {
   "accelerator": "none",
   "dataSources": [
    {
     "datasetId": 5837828,
     "sourceId": 9576096,
     "sourceType": "datasetVersion"
    }
   ],
   "dockerImageVersionId": 30786,
   "isGpuEnabled": false,
   "isInternetEnabled": true,
   "language": "python",
   "sourceType": "notebook"
  },
  "kernelspec": {
   "display_name": "Python 3",
   "language": "python",
   "name": "python3"
  },
  "language_info": {
   "codemirror_mode": {
    "name": "ipython",
    "version": 3
   },
   "file_extension": ".py",
   "mimetype": "text/x-python",
   "name": "python",
   "nbconvert_exporter": "python",
   "pygments_lexer": "ipython3",
   "version": "3.10.14"
  },
  "papermill": {
   "default_parameters": {},
   "duration": 14.871899,
   "end_time": "2024-10-08T12:58:15.912458",
   "environment_variables": {},
   "exception": null,
   "input_path": "__notebook__.ipynb",
   "output_path": "__notebook__.ipynb",
   "parameters": {},
   "start_time": "2024-10-08T12:58:01.040559",
   "version": "2.6.0"
  }
 },
 "nbformat": 4,
 "nbformat_minor": 5
}
